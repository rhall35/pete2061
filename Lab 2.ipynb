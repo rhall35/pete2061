{
 "cells": [
  {
   "cell_type": "markdown",
   "metadata": {
    "colab_type": "text",
    "id": "view-in-github"
   },
   "source": [
    "<a href=\"https://colab.research.google.com/github/lsuhpchelp/lbrnloniworkshop2019/blob/master/day1_python/intro_python.ipynb\" target=\"_parent\"><img src=\"https://colab.research.google.com/assets/colab-badge.svg\" alt=\"Open In Colab\"/></a>"
   ]
  },
  {
   "cell_type": "markdown",
   "metadata": {
    "colab_type": "text",
    "id": "u1YDPNtbdHDj"
   },
   "source": [
    "\n",
    " #  Python Data Types\n",
    "\n",
    "## PETE 2061 Lab 2 Workbook \n",
    "\n",
    "## THIS IS DUE BY 10:20 AM TODAY\n",
    "\n",
    "<a id='top'></a>"
   ]
  },
  {
   "cell_type": "markdown",
   "metadata": {
    "colab_type": "text",
    "id": "krWd44XodHDp"
   },
   "source": [
    "<a id='variables'></a>\n",
    "## Decline Curve Analysis\n",
    "Wells A, B, and C flow with an initial flow rate ($q_i$) of 5,000 bopd (barrels of oil per day), and have a continuous initial decline rate ($D_i$) of 20% per year. Well A declines exponentially, while well B declines hyperbolically, with a b-exponent of 0.5, and well C declines harmonically (this means that b = 0). <br><br>"
   ]
  },
  {
   "cell_type": "markdown",
   "metadata": {},
   "source": [
    "Step 1. Import the math library (so that the exponential function is available). <br>"
   ]
  },
  {
   "cell_type": "code",
   "execution_count": 100,
   "metadata": {},
   "outputs": [],
   "source": [
    "import math as mt\n"
   ]
  },
  {
   "cell_type": "markdown",
   "metadata": {},
   "source": [
    "Step 2. Create variables named q_i, D_i and b, and assign them to the given initial flow rate, initial decline rate, and hyperbolic b-exponent of 0.5, respectively. <br>"
   ]
  },
  {
   "cell_type": "code",
   "execution_count": 101,
   "metadata": {},
   "outputs": [],
   "source": [
    "q_i = 5000 #initial flow rate (bopd)\n",
    "D_i = 0.2 #% per year initial decline rate\n",
    "b = 0.5 #hyperbolic b-exponent"
   ]
  },
  {
   "cell_type": "markdown",
   "metadata": {},
   "source": [
    "Step 3. Using the list() and range() functions, create a list named t, and use it store time in years; starting from 0 to 3 years, and in increments of 1 year. The first item in list t will be 0, and the last item will be 3.<br>"
   ]
  },
  {
   "cell_type": "code",
   "execution_count": 113,
   "metadata": {},
   "outputs": [],
   "source": [
    "t = [0,1,2,3] #years\n",
    "intRange = range(0,4,1)\n",
    "intList = list(intRange)"
   ]
  },
  {
   "cell_type": "markdown",
   "metadata": {},
   "source": [
    "Step 4. Create a list named q_A, and fill it with four zeros. <br>"
   ]
  },
  {
   "cell_type": "code",
   "execution_count": 103,
   "metadata": {},
   "outputs": [],
   "source": [
    "q_A = [0,0,0,0]"
   ]
  },
  {
   "cell_type": "markdown",
   "metadata": {},
   "source": [
    "Step 5. Also create lists named q_B and q_C and let them store four zeros each. Note that q_A, q_B and q_C correspond to the flow rates of wells A, B and C, respectively. <br>"
   ]
  },
  {
   "cell_type": "code",
   "execution_count": 104,
   "metadata": {},
   "outputs": [],
   "source": [
    "q_B = [0,0,0,0]\n",
    "q_C = [0,0,0,0]"
   ]
  },
  {
   "cell_type": "markdown",
   "metadata": {},
   "source": [
    "Step 6. Using the appropriate equation for well A, \n",
    "    (a) compute the its rate at a time of 0 years, and store it in the first index of the list, q_A. Double-check that your result for this is equal to the initial flow rate.\n",
    "    (b) compute the its rate after 1 year and store it in the second index of the list, q_A.\n",
    "    (c) compute the its rate after 2 years and store it in the third index of the list, q_A.\n",
    "    (d) compute the its rate after 3 years and store it in the fourth index of the list, q_A. <br>"
   ]
  },
  {
   "cell_type": "code",
   "execution_count": 105,
   "metadata": {},
   "outputs": [],
   "source": [
    "well_A0 = q_i*mt.exp(-D_i*t[0])\n",
    "well_A1 = q_i*mt.exp(-D_i*t[1])\n",
    "well_A2 = q_i*mt.exp(-D_i*t[2])\n",
    "well_A3 = q_i*mt.exp(-D_i*t[3])\n",
    "q_A[0] = well_A0\n",
    "q_A[1] = well_A1\n",
    "q_A[2] = well_A2\n",
    "q_A[3] = well_A3"
   ]
  },
  {
   "cell_type": "markdown",
   "metadata": {},
   "source": [
    "Step 7. Print out list q_A. <br>"
   ]
  },
  {
   "cell_type": "code",
   "execution_count": 106,
   "metadata": {},
   "outputs": [
    {
     "name": "stdout",
     "output_type": "stream",
     "text": [
      "[5000.0, 4093.653765389909, 3351.600230178197, 2744.058180470132]\n"
     ]
    }
   ],
   "source": [
    "print(q_A)"
   ]
  },
  {
   "cell_type": "markdown",
   "metadata": {},
   "source": [
    "Step 8. Using the appropriate equation for wells B and C, compute and store the corresponding four rates in q_B and q_C. This is similar to the steps in 6 (a) through (d), but with the hyperbolic and harmonic decline curve equations, respectively. <br>"
   ]
  },
  {
   "cell_type": "code",
   "execution_count": 107,
   "metadata": {},
   "outputs": [],
   "source": [
    "well_B0 = q_i/(1+b*D_i*t[0]**(1/b))\n",
    "q_B[0] = well_B0\n",
    "well_B1= q_i/(1+b*D_i*t[1]**(1/b))\n",
    "q_B[1] = well_B1\n",
    "well_B2 = q_i/(1+b*D_i*t[2]**(1/b))\n",
    "q_B[2] = well_B2\n",
    "well_B3 = q_i/(1+b*D_i*t[3]**(1/b))\n",
    "q_B[3] = well_B3\n",
    "well_C0 = q_i/(1+D_i*t[0])\n",
    "q_C[0] = well_C0\n",
    "well_C1 = q_i/(1+D_i*t[1])\n",
    "q_C[1] = well_C1\n",
    "well_C2 = q_i/(1+D_i*t[2])\n",
    "q_C[2] = well_C2\n",
    "well_C3 = q_i/(1+D_i*t[3])\n",
    "q_C[3] = well_C3"
   ]
  },
  {
   "cell_type": "markdown",
   "metadata": {},
   "source": [
    "Step 9. Print out lists q_B and q_C <br>"
   ]
  },
  {
   "cell_type": "code",
   "execution_count": 108,
   "metadata": {},
   "outputs": [
    {
     "name": "stdout",
     "output_type": "stream",
     "text": [
      "[5000.0, 4545.454545454545, 3571.4285714285716, 2631.5789473684213]\n",
      "[5000.0, 4166.666666666667, 3571.4285714285716, 3125.0]\n"
     ]
    }
   ],
   "source": [
    "print(q_B)\n",
    "print(q_C)"
   ]
  },
  {
   "cell_type": "markdown",
   "metadata": {},
   "source": [
    "Step 10. Using all that you have learned so far, compute the corresponding cumulative production (Q_A, Q_B and Q_C) using the analytical expressions in your lecture notes. Print out the four items in each of these three lists. <br>"
   ]
  },
  {
   "cell_type": "code",
   "execution_count": 123,
   "metadata": {},
   "outputs": [
    {
     "name": "stdout",
     "output_type": "stream",
     "text": [
      "[0.0, 4531.731173050454, 8241.998849109015, 11279.70909764934]\n",
      "[50000.0, 50000.0, 50000.0, 50000.0]\n",
      "[0.0, 4558.038919848865, 8411.805915530322, 11750.090731143391]\n"
     ]
    }
   ],
   "source": [
    "A_0 = (q_i-well_A0)/D_i\n",
    "A_1 = (q_i-well_A1)/D_i\n",
    "A_2 = (q_i-well_A2)/D_i\n",
    "A_3 = (q_i-well_A3)/D_i\n",
    "Q_A = [A_0,A_1,A_2,A_3]\n",
    "print(Q_A)\n",
    "B_0 = (q_i/(D_i*(1-b)))*(1-1/(1+b*D_i*0))**(1-b/b)\n",
    "B_1 = (q_i/(D_i*(1-b)))*(1-1/(1+b*D_i*1))**(1-b/b)\n",
    "B_2 = (q_i/(D_i*(1-b)))*(1-1/(1+b*D_i*2))**(1-b/b)\n",
    "B_3 = (q_i/(D_i*(1-b)))*(1-1/(1+b*D_i*3))**(1-b/b)\n",
    "Q_B = [B_0,B_1,B_2,B_3]\n",
    "print(Q_B)\n",
    "C_0 = (q_i/D_i)*mt.log(1+D_i*t[0])\n",
    "C_1 = (q_i/D_i)*mt.log(1+D_i*t[1])\n",
    "C_2 = (q_i/D_i)*mt.log(1+D_i*t[2])\n",
    "C_3 = (q_i/D_i)*mt.log(1+D_i*t[3])\n",
    "Q_C = [C_0,C_1,C_2,C_3]\n",
    "print(Q_C)"
   ]
  },
  {
   "cell_type": "markdown",
   "metadata": {},
   "source": [
    "Step 11. Using the Trapezoidal rule for well A, compute the volume of oil (in barrels) produced between:\n",
    "    (a) time = 0 and time = 1 year\n",
    "    (b) time = 1 and time = 2 years\n",
    "    (c) time = 2 and time = 3 years. <br>"
   ]
  },
  {
   "cell_type": "code",
   "execution_count": 124,
   "metadata": {},
   "outputs": [],
   "source": [
    "y1 = .5*(well_A0+well_A1)\n",
    "y2 = .5*(well_A1+well_A2)\n",
    "y3 = .5*(well_A2+well_A3)"
   ]
  },
  {
   "cell_type": "markdown",
   "metadata": {},
   "source": [
    "Step 12. Add up the three results from 11(a), (b) and (c) to obtain the cumulative production for well A after 3 years. <br>"
   ]
  },
  {
   "cell_type": "code",
   "execution_count": 125,
   "metadata": {},
   "outputs": [
    {
     "name": "stdout",
     "output_type": "stream",
     "text": [
      "11317.28308580317\n"
     ]
    }
   ],
   "source": [
    "op = y1+y2+y3\n",
    "print(op)"
   ]
  },
  {
   "cell_type": "markdown",
   "metadata": {},
   "source": [
    "Step 13. Compare the result from Step 12 (a numerical integration) to the result stored in the last item in list Q_A (an exact integration). Compute the relative error (in %) of the numerical integration. <br>"
   ]
  },
  {
   "cell_type": "code",
   "execution_count": 126,
   "metadata": {},
   "outputs": [
    {
     "name": "stdout",
     "output_type": "stream",
     "text": [
      "The reletive error is -0.3331113225398741%\n"
     ]
    }
   ],
   "source": [
    "rel_e = (A_3-op)/A_3\n",
    "percent_e = rel_e*100\n",
    "print(f\"The reletive error is {percent_e}%\")"
   ]
  },
  {
   "cell_type": "code",
   "execution_count": null,
   "metadata": {},
   "outputs": [],
   "source": []
  }
 ],
 "metadata": {
  "colab": {
   "collapsed_sections": [
    "sYQs3O-6dHFb",
    "8sIJ4A57dHFk",
    "_73RPOcBdHFn",
    "h9s2tfPcdHFo",
    "zt4YHVYPdHGR"
   ],
   "include_colab_link": true,
   "name": "Copy of intro-python-colab.ipynb",
   "provenance": [],
   "version": "0.3.2"
  },
  "kernelspec": {
   "display_name": "Python 3",
   "language": "python",
   "name": "python3"
  },
  "language_info": {
   "codemirror_mode": {
    "name": "ipython",
    "version": 3
   },
   "file_extension": ".py",
   "mimetype": "text/x-python",
   "name": "python",
   "nbconvert_exporter": "python",
   "pygments_lexer": "ipython3",
   "version": "3.7.3"
  }
 },
 "nbformat": 4,
 "nbformat_minor": 1
}
