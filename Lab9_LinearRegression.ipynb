{
 "cells": [
  {
   "cell_type": "markdown",
   "metadata": {},
   "source": [
    "\n",
    " # Linear Regression\n",
    "\n",
    "## PETE 2061 Lab 9\n",
    "\n",
    "<a id='top'></a>"
   ]
  },
  {
   "cell_type": "code",
   "execution_count": 71,
   "metadata": {},
   "outputs": [],
   "source": [
    "import numpy as np\n",
    "import scipy.stats as ss \n",
    "import pandas as pd \n",
    "import matplotlib.pyplot as plt \n",
    "%matplotlib inline"
   ]
  },
  {
   "cell_type": "markdown",
   "metadata": {},
   "source": [
    "# Correlation and Linear Regression"
   ]
  },
  {
   "cell_type": "markdown",
   "metadata": {},
   "source": [
    "## A simple data set"
   ]
  },
  {
   "cell_type": "code",
   "execution_count": 73,
   "metadata": {},
   "outputs": [],
   "source": [
    "x = [1,2,3,4,5,6,7,8,9,10]\n",
    "y = [1.1,1.9,3.2,4.2,5.1,6.1,6.8,7.9,9.3,11]"
   ]
  },
  {
   "cell_type": "markdown",
   "metadata": {},
   "source": [
    "### Calculate Z-scores"
   ]
  },
  {
   "cell_type": "code",
   "execution_count": 76,
   "metadata": {},
   "outputs": [
    {
     "data": {
      "text/plain": [
       "array([-1.48630108, -1.15601195, -0.82572282, -0.49543369, -0.16514456,\n",
       "        0.16514456,  0.49543369,  0.82572282,  1.15601195,  1.48630108])"
      ]
     },
     "execution_count": 76,
     "metadata": {},
     "output_type": "execute_result"
    }
   ],
   "source": [
    "z_x = (x-np.mean(x))/np.std(x, ddof=1)  #uses sample std when ddof=1. It means you divide by (n-1) and not n.\n",
    "z_x"
   ]
  },
  {
   "cell_type": "markdown",
   "metadata": {},
   "source": [
    "**The default degree of freedom (ddof) when ddof is not provided is 0, which means it calculates population standard deviation, and not sample standard deviation**\n",
    "* For sample variance: $\\sigma^2 = \\frac{\\sum_{i=1}^n (x_i - \\mu)^2}{n-1} $\n",
    "* For population variance: $\\sigma^2 = \\frac{\\sum_{i=1}^n (x_i - \\mu)^2}{n} $\n",
    "* Recall that standard deviation is the square root of variance.\n",
    "* ddof = 1 implies that the data given is a sample from a population, while ddof = 0 (which is the default) implies that the data given is the population."
   ]
  },
  {
   "cell_type": "code",
   "execution_count": 77,
   "metadata": {},
   "outputs": [],
   "source": [
    "z_x = ss.zscore(x,ddof=1) # ddof = 1 (uses sample std)\n",
    "z_y = ss.zscore(y,ddof=1)"
   ]
  },
  {
   "cell_type": "code",
   "execution_count": 78,
   "metadata": {},
   "outputs": [
    {
     "data": {
      "text/plain": [
       "array([-1.48630108, -1.15601195, -0.82572282, -0.49543369, -0.16514456,\n",
       "        0.16514456,  0.49543369,  0.82572282,  1.15601195,  1.48630108])"
      ]
     },
     "execution_count": 78,
     "metadata": {},
     "output_type": "execute_result"
    }
   ],
   "source": [
    "z_x"
   ]
  },
  {
   "cell_type": "code",
   "execution_count": 79,
   "metadata": {},
   "outputs": [
    {
     "data": {
      "text/plain": [
       "array([-1.42853853, -1.17791773, -0.77065894, -0.45738295, -0.17543456,\n",
       "        0.13784144,  0.35713463,  0.70173822,  1.14032461,  1.6728938 ])"
      ]
     },
     "execution_count": 79,
     "metadata": {},
     "output_type": "execute_result"
    }
   ],
   "source": [
    "z_y"
   ]
  },
  {
   "cell_type": "code",
   "execution_count": 80,
   "metadata": {},
   "outputs": [
    {
     "data": {
      "text/plain": [
       "array([-1.5666989 , -1.21854359, -0.87038828, -0.52223297, -0.17407766,\n",
       "        0.17407766,  0.52223297,  0.87038828,  1.21854359,  1.5666989 ])"
      ]
     },
     "execution_count": 80,
     "metadata": {},
     "output_type": "execute_result"
    }
   ],
   "source": [
    "z_x = ss.zscore(x)  #this will assume that x is the population and not a sample. ie. ddof=0\n",
    "z_x"
   ]
  },
  {
   "cell_type": "markdown",
   "metadata": {},
   "source": [
    "### Calculate $r$ value"
   ]
  },
  {
   "cell_type": "code",
   "execution_count": 81,
   "metadata": {},
   "outputs": [
    {
     "data": {
      "text/plain": [
       "0.995627257890435"
      ]
     },
     "execution_count": 81,
     "metadata": {},
     "output_type": "execute_result"
    }
   ],
   "source": [
    "zx = ss.zscore(x,ddof=len(x)-1) # this trick with ddof takes out the division by n-1 or n in std. \n",
    "zy = ss.zscore(y,ddof=len(y)-1)\n",
    "sum(zx*zy)    # compare this with the formula for r in lecture note."
   ]
  },
  {
   "cell_type": "markdown",
   "metadata": {},
   "source": [
    "### Calculate $r^2$ (this is what excel gives you)"
   ]
  },
  {
   "cell_type": "code",
   "execution_count": 17,
   "metadata": {},
   "outputs": [
    {
     "data": {
      "text/plain": [
       "0.9912736366544268"
      ]
     },
     "execution_count": 17,
     "metadata": {},
     "output_type": "execute_result"
    }
   ],
   "source": [
    "(sum(zx*zy))**2"
   ]
  },
  {
   "cell_type": "code",
   "execution_count": 18,
   "metadata": {},
   "outputs": [
    {
     "data": {
      "image/png": "[encoded data removed]",
      "text/plain": [
       "<Figure size 432x288 with 1 Axes>"
      ]
     },
     "metadata": {},
     "output_type": "display_data"
    }
   ],
   "source": [
    "plt.scatter(x,y)\n",
    "plt.show()"
   ]
  },
  {
   "cell_type": "markdown",
   "metadata": {},
   "source": [
    "### Perform Linear Regression"
   ]
  },
  {
   "cell_type": "code",
   "execution_count": 19,
   "metadata": {},
   "outputs": [
    {
     "name": "stdout",
     "output_type": "stream",
     "text": [
      " slope = 1.0496969696969698 \n",
      " intercept = -0.11333333333333417 \n",
      " r_value = 0.9956272578904354 \n",
      " p_value = 1.591156211680006e-09 \n",
      " std_err = 0.03482080587205541 \n"
     ]
    }
   ],
   "source": [
    "[slope, intercept, r_value, p_value, std_err]=ss.linregress(x,y)\n",
    "print(f\" slope = {slope} \\n intercept = {intercept} \\n r_value = {r_value} \\n p_value = {p_value} \\n std_err = {std_err} \")"
   ]
  },
  {
   "cell_type": "code",
   "execution_count": 20,
   "metadata": {},
   "outputs": [],
   "source": [
    "y_model = slope*np.array(x) + intercept"
   ]
  },
  {
   "cell_type": "code",
   "execution_count": 21,
   "metadata": {},
   "outputs": [
    {
     "data": {
      "text/plain": [
       "array([ 0.93636364,  1.98606061,  3.03575758,  4.08545455,  5.13515152,\n",
       "        6.18484848,  7.23454545,  8.28424242,  9.33393939, 10.38363636])"
      ]
     },
     "execution_count": 21,
     "metadata": {},
     "output_type": "execute_result"
    }
   ],
   "source": [
    "y_model"
   ]
  },
  {
   "cell_type": "code",
   "execution_count": 83,
   "metadata": {},
   "outputs": [
    {
     "data": {
      "image/png": "[encoded data removed]",
      "text/plain": [
       "<Figure size 432x288 with 1 Axes>"
      ]
     },
     "metadata": {},
     "output_type": "display_data"
    }
   ],
   "source": [
    "plt.scatter(x,y)\n",
    "plt.plot(x,y_model)\n",
    "if intercept > 0:\n",
    "    sign = '+'\n",
    "else:\n",
    "    sign = '-'\n",
    "txt = 'y = '+str(round(slope,4))+'*x '+sign+' '+str(abs(round(intercept,4)))  \n",
    "#creates string that describes the equation of the regressed line\n",
    "plt.legend([txt,'Data'])\n",
    "plt.show()"
   ]
  },
  {
   "cell_type": "markdown",
   "metadata": {},
   "source": [
    "### Properties of Correlation Coefficient\n",
    "It is not changed by:\n",
    "* Multiplying each value by a positive constant\n",
    "* Adding a constant to each value\n",
    "* Interchanging x and y\n",
    "\n",
    "The two cells below show this:"
   ]
  },
  {
   "cell_type": "code",
   "execution_count": 26,
   "metadata": {},
   "outputs": [
    {
     "data": {
      "text/plain": [
       "0.9956272578904354"
      ]
     },
     "execution_count": 26,
     "metadata": {},
     "output_type": "execute_result"
    }
   ],
   "source": [
    "[slope,inter,r,p,stderr]=ss.linregress(2*np.array(x)+7,y)\n",
    "r"
   ]
  },
  {
   "cell_type": "code",
   "execution_count": 27,
   "metadata": {},
   "outputs": [
    {
     "data": {
      "text/plain": [
       "0.9956272578904354"
      ]
     },
     "execution_count": 27,
     "metadata": {},
     "output_type": "execute_result"
    }
   ],
   "source": [
    "[slope,inter,r,p,stderr]=ss.linregress(y,x)\n",
    "r"
   ]
  },
  {
   "cell_type": "markdown",
   "metadata": {},
   "source": [
    "## Porosity from Seismic Data\n",
    "Estimating porosity from seismic signal transit time is a great use of Least-Squares Lines and correlations. First let us look at some data.\n"
   ]
  },
  {
   "cell_type": "code",
   "execution_count": 29,
   "metadata": {},
   "outputs": [],
   "source": [
    "depth = np.arange(2000,14000,1000)\n",
    "poro = np.array([.346,.318,.292,.268,.246,.226,.208,.191,.175,.161,.148,.136])\n",
    "intTrans = np.array([153,140,132,126,118,120,112,106,102,103,93,96])\n",
    "matTrans = np.array([122,108,100,96,88,94,87,82,79,83,73,78])\n",
    "df = pd.DataFrame({'AveDepth':depth,'Porosity':poro,'IntervalTransitTime':intTrans,'MatrixTransitTime':matTrans})"
   ]
  },
  {
   "cell_type": "code",
   "execution_count": 30,
   "metadata": {},
   "outputs": [
    {
     "data": {
      "text/html": [
       "<div>\n",
       "<style scoped>\n",
       "    .dataframe tbody tr th:only-of-type {\n",
       "        vertical-align: middle;\n",
       "    }\n",
       "\n",
       "    .dataframe tbody tr th {\n",
       "        vertical-align: top;\n",
       "    }\n",
       "\n",
       "    .dataframe thead th {\n",
       "        text-align: right;\n",
       "    }\n",
       "</style>\n",
       "<table border=\"1\" class=\"dataframe\">\n",
       "  <thead>\n",
       "    <tr style=\"text-align: right;\">\n",
       "      <th></th>\n",
       "      <th>AveDepth</th>\n",
       "      <th>Porosity</th>\n",
       "      <th>IntervalTransitTime</th>\n",
       "      <th>MatrixTransitTime</th>\n",
       "    </tr>\n",
       "  </thead>\n",
       "  <tbody>\n",
       "    <tr>\n",
       "      <th>0</th>\n",
       "      <td>2000</td>\n",
       "      <td>0.346</td>\n",
       "      <td>153</td>\n",
       "      <td>122</td>\n",
       "    </tr>\n",
       "    <tr>\n",
       "      <th>1</th>\n",
       "      <td>3000</td>\n",
       "      <td>0.318</td>\n",
       "      <td>140</td>\n",
       "      <td>108</td>\n",
       "    </tr>\n",
       "    <tr>\n",
       "      <th>2</th>\n",
       "      <td>4000</td>\n",
       "      <td>0.292</td>\n",
       "      <td>132</td>\n",
       "      <td>100</td>\n",
       "    </tr>\n",
       "    <tr>\n",
       "      <th>3</th>\n",
       "      <td>5000</td>\n",
       "      <td>0.268</td>\n",
       "      <td>126</td>\n",
       "      <td>96</td>\n",
       "    </tr>\n",
       "    <tr>\n",
       "      <th>4</th>\n",
       "      <td>6000</td>\n",
       "      <td>0.246</td>\n",
       "      <td>118</td>\n",
       "      <td>88</td>\n",
       "    </tr>\n",
       "    <tr>\n",
       "      <th>5</th>\n",
       "      <td>7000</td>\n",
       "      <td>0.226</td>\n",
       "      <td>120</td>\n",
       "      <td>94</td>\n",
       "    </tr>\n",
       "    <tr>\n",
       "      <th>6</th>\n",
       "      <td>8000</td>\n",
       "      <td>0.208</td>\n",
       "      <td>112</td>\n",
       "      <td>87</td>\n",
       "    </tr>\n",
       "    <tr>\n",
       "      <th>7</th>\n",
       "      <td>9000</td>\n",
       "      <td>0.191</td>\n",
       "      <td>106</td>\n",
       "      <td>82</td>\n",
       "    </tr>\n",
       "    <tr>\n",
       "      <th>8</th>\n",
       "      <td>10000</td>\n",
       "      <td>0.175</td>\n",
       "      <td>102</td>\n",
       "      <td>79</td>\n",
       "    </tr>\n",
       "    <tr>\n",
       "      <th>9</th>\n",
       "      <td>11000</td>\n",
       "      <td>0.161</td>\n",
       "      <td>103</td>\n",
       "      <td>83</td>\n",
       "    </tr>\n",
       "    <tr>\n",
       "      <th>10</th>\n",
       "      <td>12000</td>\n",
       "      <td>0.148</td>\n",
       "      <td>93</td>\n",
       "      <td>73</td>\n",
       "    </tr>\n",
       "    <tr>\n",
       "      <th>11</th>\n",
       "      <td>13000</td>\n",
       "      <td>0.136</td>\n",
       "      <td>96</td>\n",
       "      <td>78</td>\n",
       "    </tr>\n",
       "  </tbody>\n",
       "</table>\n",
       "</div>"
      ],
      "text/plain": [
       "    AveDepth  Porosity  IntervalTransitTime  MatrixTransitTime\n",
       "0       2000     0.346                  153                122\n",
       "1       3000     0.318                  140                108\n",
       "2       4000     0.292                  132                100\n",
       "3       5000     0.268                  126                 96\n",
       "4       6000     0.246                  118                 88\n",
       "5       7000     0.226                  120                 94\n",
       "6       8000     0.208                  112                 87\n",
       "7       9000     0.191                  106                 82\n",
       "8      10000     0.175                  102                 79\n",
       "9      11000     0.161                  103                 83\n",
       "10     12000     0.148                   93                 73\n",
       "11     13000     0.136                   96                 78"
      ]
     },
     "execution_count": 30,
     "metadata": {},
     "output_type": "execute_result"
    }
   ],
   "source": [
    "df"
   ]
  },
  {
   "cell_type": "code",
   "execution_count": 32,
   "metadata": {},
   "outputs": [
    {
     "data": {
      "image/png": "[encoded data removed]",
      "text/plain": [
       "<Figure size 432x288 with 1 Axes>"
      ]
     },
     "metadata": {},
     "output_type": "display_data"
    }
   ],
   "source": [
    "plt.scatter(df.Porosity,df['MatrixTransitTime'])\n",
    "plt.show()"
   ]
  },
  {
   "cell_type": "code",
   "execution_count": 33,
   "metadata": {},
   "outputs": [
    {
     "name": "stdout",
     "output_type": "stream",
     "text": [
      "194.86063849756223 46.74611387325988 0.9529890656625238\n"
     ]
    }
   ],
   "source": [
    "[slope,inter,r,p,stderr]=ss.linregress(df['Porosity'],df['MatrixTransitTime'])\n",
    "print(slope,inter,r)"
   ]
  },
  {
   "cell_type": "markdown",
   "metadata": {},
   "source": [
    "***The equation for the line of best fit is: $t_{ma}=46.746+194.86\\phi$***"
   ]
  },
  {
   "cell_type": "code",
   "execution_count": 36,
   "metadata": {},
   "outputs": [
    {
     "data": {
      "image/png": "[encoded data removed]",
      "text/plain": [
       "<Figure size 432x288 with 1 Axes>"
      ]
     },
     "metadata": {},
     "output_type": "display_data"
    }
   ],
   "source": [
    "t_ma = np.array(df['Porosity'])*slope+inter\n",
    "plt.scatter(df['Porosity'],df['MatrixTransitTime'])\n",
    "plt.plot(df['Porosity'],t_ma)\n",
    "if inter > 0:\n",
    "    sign = '+'\n",
    "else:\n",
    "    sign = '-'\n",
    "txt = 'y = '+str(round(slope,4))+'*x '+sign+' '+str(abs(round(inter,4)))\n",
    "plt.legend([txt,'Data'])\n",
    "plt.xlabel('Porosity')\n",
    "plt.ylabel('Apparent Matrix Transit Time')\n",
    "plt.show()"
   ]
  },
  {
   "cell_type": "markdown",
   "metadata": {},
   "source": [
    "**Can you fit a straight line model (linear regression) to the data for interval transit time as a function of average depth?**"
   ]
  },
  {
   "cell_type": "markdown",
   "metadata": {},
   "source": [
    "## Example\n",
    "An engineer wants to predict the value for y when x=4.5 using the following data set:"
   ]
  },
  {
   "cell_type": "code",
   "execution_count": 84,
   "metadata": {},
   "outputs": [],
   "source": [
    "x = np.arange(1,11,1)\n",
    "y = np.array([0.2,0.3,0.5,0.5,1.3,2.3,2.9,4.5,8.7,12.])"
   ]
  },
  {
   "cell_type": "code",
   "execution_count": 85,
   "metadata": {},
   "outputs": [
    {
     "data": {
      "text/html": [
       "<div>\n",
       "<style scoped>\n",
       "    .dataframe tbody tr th:only-of-type {\n",
       "        vertical-align: middle;\n",
       "    }\n",
       "\n",
       "    .dataframe tbody tr th {\n",
       "        vertical-align: top;\n",
       "    }\n",
       "\n",
       "    .dataframe thead th {\n",
       "        text-align: right;\n",
       "    }\n",
       "</style>\n",
       "<table border=\"1\" class=\"dataframe\">\n",
       "  <thead>\n",
       "    <tr style=\"text-align: right;\">\n",
       "      <th></th>\n",
       "      <th>x</th>\n",
       "      <th>y</th>\n",
       "    </tr>\n",
       "  </thead>\n",
       "  <tbody>\n",
       "    <tr>\n",
       "      <th>0</th>\n",
       "      <td>1</td>\n",
       "      <td>0.2</td>\n",
       "    </tr>\n",
       "    <tr>\n",
       "      <th>1</th>\n",
       "      <td>2</td>\n",
       "      <td>0.3</td>\n",
       "    </tr>\n",
       "    <tr>\n",
       "      <th>2</th>\n",
       "      <td>3</td>\n",
       "      <td>0.5</td>\n",
       "    </tr>\n",
       "    <tr>\n",
       "      <th>3</th>\n",
       "      <td>4</td>\n",
       "      <td>0.5</td>\n",
       "    </tr>\n",
       "    <tr>\n",
       "      <th>4</th>\n",
       "      <td>5</td>\n",
       "      <td>1.3</td>\n",
       "    </tr>\n",
       "    <tr>\n",
       "      <th>5</th>\n",
       "      <td>6</td>\n",
       "      <td>2.3</td>\n",
       "    </tr>\n",
       "    <tr>\n",
       "      <th>6</th>\n",
       "      <td>7</td>\n",
       "      <td>2.9</td>\n",
       "    </tr>\n",
       "    <tr>\n",
       "      <th>7</th>\n",
       "      <td>8</td>\n",
       "      <td>4.5</td>\n",
       "    </tr>\n",
       "    <tr>\n",
       "      <th>8</th>\n",
       "      <td>9</td>\n",
       "      <td>8.7</td>\n",
       "    </tr>\n",
       "    <tr>\n",
       "      <th>9</th>\n",
       "      <td>10</td>\n",
       "      <td>12.0</td>\n",
       "    </tr>\n",
       "  </tbody>\n",
       "</table>\n",
       "</div>"
      ],
      "text/plain": [
       "    x     y\n",
       "0   1   0.2\n",
       "1   2   0.3\n",
       "2   3   0.5\n",
       "3   4   0.5\n",
       "4   5   1.3\n",
       "5   6   2.3\n",
       "6   7   2.9\n",
       "7   8   4.5\n",
       "8   9   8.7\n",
       "9  10  12.0"
      ]
     },
     "execution_count": 85,
     "metadata": {},
     "output_type": "execute_result"
    }
   ],
   "source": [
    "df = pd.DataFrame({'x':x,'y':y})\n",
    "df"
   ]
  },
  {
   "cell_type": "markdown",
   "metadata": {},
   "source": [
    "## Construct a scatter plot"
   ]
  },
  {
   "cell_type": "code",
   "execution_count": 86,
   "metadata": {},
   "outputs": [
    {
     "data": {
      "image/png": "[encoded data removed]",
      "text/plain": [
       "<Figure size 432x288 with 1 Axes>"
      ]
     },
     "metadata": {},
     "output_type": "display_data"
    }
   ],
   "source": [
    "plt.scatter(x,y)\n",
    "plt.show()"
   ]
  },
  {
   "cell_type": "markdown",
   "metadata": {},
   "source": [
    "### Should the least-squares line be used to predict the value of y when x=4.5?"
   ]
  },
  {
   "cell_type": "code",
   "execution_count": 87,
   "metadata": {},
   "outputs": [
    {
     "name": "stdout",
     "output_type": "stream",
     "text": [
      "1.170909090909091 -3.119999999999999 0.8809813800237662\n"
     ]
    }
   ],
   "source": [
    "[slope,inter,r,p,stderr]=ss.linregress(df['x'],df['y'])\n",
    "print (slope,inter,r)"
   ]
  },
  {
   "cell_type": "code",
   "execution_count": 88,
   "metadata": {},
   "outputs": [
    {
     "data": {
      "image/png": "[encoded data removed]",
      "text/plain": [
       "<Figure size 432x288 with 1 Axes>"
      ]
     },
     "metadata": {},
     "output_type": "display_data"
    }
   ],
   "source": [
    "y1 = np.array(df.x)*slope+inter\n",
    "plt.scatter(df['x'],df['y'])\n",
    "plt.plot(df['x'],y1)\n",
    "if inter > 0:\n",
    "    sign = '+'\n",
    "else:\n",
    "    sign = '-'\n",
    "txt = 'y = '+str(round(slope,4))+'*x '+sign+' '+str(abs(round(inter,4)))\n",
    "plt.legend([txt,'Data'])\n",
    "plt.xlabel('x')\n",
    "plt.ylabel('y')\n",
    "plt.show()"
   ]
  },
  {
   "cell_type": "code",
   "execution_count": 89,
   "metadata": {},
   "outputs": [
    {
     "name": "stdout",
     "output_type": "stream",
     "text": [
      "y = 2.1490909090909103 for x = 4.5\n"
     ]
    }
   ],
   "source": [
    "x = 4.5\n",
    "y = x*slope+inter\n",
    "print('y =',y,'for x =',x)"
   ]
  },
  {
   "cell_type": "markdown",
   "metadata": {},
   "source": [
    "### Construct a scatter plot of (x,z) where z = ln(y)"
   ]
  },
  {
   "cell_type": "code",
   "execution_count": 90,
   "metadata": {},
   "outputs": [],
   "source": [
    "df['z'] = np.log(df['y'])"
   ]
  },
  {
   "cell_type": "code",
   "execution_count": 91,
   "metadata": {},
   "outputs": [
    {
     "data": {
      "text/html": [
       "<div>\n",
       "<style scoped>\n",
       "    .dataframe tbody tr th:only-of-type {\n",
       "        vertical-align: middle;\n",
       "    }\n",
       "\n",
       "    .dataframe tbody tr th {\n",
       "        vertical-align: top;\n",
       "    }\n",
       "\n",
       "    .dataframe thead th {\n",
       "        text-align: right;\n",
       "    }\n",
       "</style>\n",
       "<table border=\"1\" class=\"dataframe\">\n",
       "  <thead>\n",
       "    <tr style=\"text-align: right;\">\n",
       "      <th></th>\n",
       "      <th>x</th>\n",
       "      <th>y</th>\n",
       "      <th>z</th>\n",
       "    </tr>\n",
       "  </thead>\n",
       "  <tbody>\n",
       "    <tr>\n",
       "      <th>0</th>\n",
       "      <td>1</td>\n",
       "      <td>0.2</td>\n",
       "      <td>-1.609438</td>\n",
       "    </tr>\n",
       "    <tr>\n",
       "      <th>1</th>\n",
       "      <td>2</td>\n",
       "      <td>0.3</td>\n",
       "      <td>-1.203973</td>\n",
       "    </tr>\n",
       "    <tr>\n",
       "      <th>2</th>\n",
       "      <td>3</td>\n",
       "      <td>0.5</td>\n",
       "      <td>-0.693147</td>\n",
       "    </tr>\n",
       "    <tr>\n",
       "      <th>3</th>\n",
       "      <td>4</td>\n",
       "      <td>0.5</td>\n",
       "      <td>-0.693147</td>\n",
       "    </tr>\n",
       "    <tr>\n",
       "      <th>4</th>\n",
       "      <td>5</td>\n",
       "      <td>1.3</td>\n",
       "      <td>0.262364</td>\n",
       "    </tr>\n",
       "    <tr>\n",
       "      <th>5</th>\n",
       "      <td>6</td>\n",
       "      <td>2.3</td>\n",
       "      <td>0.832909</td>\n",
       "    </tr>\n",
       "    <tr>\n",
       "      <th>6</th>\n",
       "      <td>7</td>\n",
       "      <td>2.9</td>\n",
       "      <td>1.064711</td>\n",
       "    </tr>\n",
       "    <tr>\n",
       "      <th>7</th>\n",
       "      <td>8</td>\n",
       "      <td>4.5</td>\n",
       "      <td>1.504077</td>\n",
       "    </tr>\n",
       "    <tr>\n",
       "      <th>8</th>\n",
       "      <td>9</td>\n",
       "      <td>8.7</td>\n",
       "      <td>2.163323</td>\n",
       "    </tr>\n",
       "    <tr>\n",
       "      <th>9</th>\n",
       "      <td>10</td>\n",
       "      <td>12.0</td>\n",
       "      <td>2.484907</td>\n",
       "    </tr>\n",
       "  </tbody>\n",
       "</table>\n",
       "</div>"
      ],
      "text/plain": [
       "    x     y         z\n",
       "0   1   0.2 -1.609438\n",
       "1   2   0.3 -1.203973\n",
       "2   3   0.5 -0.693147\n",
       "3   4   0.5 -0.693147\n",
       "4   5   1.3  0.262364\n",
       "5   6   2.3  0.832909\n",
       "6   7   2.9  1.064711\n",
       "7   8   4.5  1.504077\n",
       "8   9   8.7  2.163323\n",
       "9  10  12.0  2.484907"
      ]
     },
     "execution_count": 91,
     "metadata": {},
     "output_type": "execute_result"
    }
   ],
   "source": [
    "df"
   ]
  },
  {
   "cell_type": "code",
   "execution_count": 95,
   "metadata": {},
   "outputs": [
    {
     "data": {
      "text/plain": [
       "<matplotlib.collections.PathCollection at 0x1221d58d0>"
      ]
     },
     "execution_count": 95,
     "metadata": {},
     "output_type": "execute_result"
    },
    {
     "data": {
      "image/png": "[encoded data removed]",
      "text/plain": [
       "<Figure size 432x288 with 1 Axes>"
      ]
     },
     "metadata": {},
     "output_type": "display_data"
    }
   ],
   "source": [
    "plt.scatter(df.x,df.z)"
   ]
  },
  {
   "cell_type": "markdown",
   "metadata": {},
   "source": [
    "### Perform a regression and find slope, intercept and r values"
   ]
  },
  {
   "cell_type": "code",
   "execution_count": 96,
   "metadata": {},
   "outputs": [
    {
     "name": "stdout",
     "output_type": "stream",
     "text": [
      "0.468184323440667 -2.1637551670496777 0.99346064102356\n"
     ]
    }
   ],
   "source": [
    "[slope,inter,r,p,stderr]=ss.linregress(df['x'],df['z'])\n",
    "print (slope,inter,r)"
   ]
  },
  {
   "cell_type": "code",
   "execution_count": 97,
   "metadata": {},
   "outputs": [
    {
     "data": {
      "image/png": "[encoded data removed]",
      "text/plain": [
       "<Figure size 432x288 with 1 Axes>"
      ]
     },
     "metadata": {},
     "output_type": "display_data"
    }
   ],
   "source": [
    "z1 = np.array(df.x)*slope+inter\n",
    "plt.scatter(df.x,df.z)\n",
    "plt.plot(df.x,z1)\n",
    "if inter > 0:\n",
    "    sign = '+'\n",
    "else:\n",
    "    sign = '-'\n",
    "txt = 'y = '+str(round(slope,4))+'*x '+sign+' '+str(abs(round(inter,4)))\n",
    "plt.legend([txt,'Data'])\n",
    "plt.xlabel('x')\n",
    "plt.ylabel('z')\n",
    "plt.show()"
   ]
  },
  {
   "cell_type": "markdown",
   "metadata": {},
   "source": [
    "### How do we now predict y when x = 4.5?"
   ]
  },
  {
   "cell_type": "code",
   "execution_count": 98,
   "metadata": {},
   "outputs": [
    {
     "name": "stdout",
     "output_type": "stream",
     "text": [
      "y = 0.9446642443866272 for x = 4.5\n"
     ]
    }
   ],
   "source": [
    "x = 4.5\n",
    "z = x*slope+inter\n",
    "y = np.exp(z)\n",
    "print('y =',y,'for x =',x)"
   ]
  },
  {
   "cell_type": "markdown",
   "metadata": {},
   "source": [
    "## PVT Data\n",
    "Building a Cox chart for n-hexane to predict the vapor pressure change based on temperature."
   ]
  },
  {
   "cell_type": "code",
   "execution_count": 99,
   "metadata": {},
   "outputs": [],
   "source": [
    "df = pd.DataFrame({'Temp_F':[155.7,199.4,269.1,331.9,408.9,454.6],\n",
    "                  'Vapor_Pressure':[14.7,29.4,73.5,147.0,293.9,435.]})"
   ]
  },
  {
   "cell_type": "code",
   "execution_count": 100,
   "metadata": {},
   "outputs": [
    {
     "data": {
      "text/html": [
       "<div>\n",
       "<style scoped>\n",
       "    .dataframe tbody tr th:only-of-type {\n",
       "        vertical-align: middle;\n",
       "    }\n",
       "\n",
       "    .dataframe tbody tr th {\n",
       "        vertical-align: top;\n",
       "    }\n",
       "\n",
       "    .dataframe thead th {\n",
       "        text-align: right;\n",
       "    }\n",
       "</style>\n",
       "<table border=\"1\" class=\"dataframe\">\n",
       "  <thead>\n",
       "    <tr style=\"text-align: right;\">\n",
       "      <th></th>\n",
       "      <th>Temp_F</th>\n",
       "      <th>Vapor_Pressure</th>\n",
       "    </tr>\n",
       "  </thead>\n",
       "  <tbody>\n",
       "    <tr>\n",
       "      <th>0</th>\n",
       "      <td>155.7</td>\n",
       "      <td>14.7</td>\n",
       "    </tr>\n",
       "    <tr>\n",
       "      <th>1</th>\n",
       "      <td>199.4</td>\n",
       "      <td>29.4</td>\n",
       "    </tr>\n",
       "    <tr>\n",
       "      <th>2</th>\n",
       "      <td>269.1</td>\n",
       "      <td>73.5</td>\n",
       "    </tr>\n",
       "    <tr>\n",
       "      <th>3</th>\n",
       "      <td>331.9</td>\n",
       "      <td>147.0</td>\n",
       "    </tr>\n",
       "    <tr>\n",
       "      <th>4</th>\n",
       "      <td>408.9</td>\n",
       "      <td>293.9</td>\n",
       "    </tr>\n",
       "    <tr>\n",
       "      <th>5</th>\n",
       "      <td>454.6</td>\n",
       "      <td>435.0</td>\n",
       "    </tr>\n",
       "  </tbody>\n",
       "</table>\n",
       "</div>"
      ],
      "text/plain": [
       "   Temp_F  Vapor_Pressure\n",
       "0   155.7            14.7\n",
       "1   199.4            29.4\n",
       "2   269.1            73.5\n",
       "3   331.9           147.0\n",
       "4   408.9           293.9\n",
       "5   454.6           435.0"
      ]
     },
     "execution_count": 100,
     "metadata": {},
     "output_type": "execute_result"
    }
   ],
   "source": [
    "df"
   ]
  },
  {
   "cell_type": "markdown",
   "metadata": {},
   "source": [
    "$ln(p_v)=-\\frac{L_v}{R}\\frac{1}{T}+C$"
   ]
  },
  {
   "cell_type": "code",
   "execution_count": 101,
   "metadata": {},
   "outputs": [
    {
     "data": {
      "image/png": "[encoded data removed]",
      "text/plain": [
       "<Figure size 432x288 with 1 Axes>"
      ]
     },
     "metadata": {},
     "output_type": "display_data"
    }
   ],
   "source": [
    "plt.scatter(df['Vapor_Pressure'],df['Temp_F'])\n",
    "plt.xlabel('Temperature in F')\n",
    "plt.ylabel('Vapor Pressure in psia')\n",
    "plt.show()"
   ]
  },
  {
   "cell_type": "code",
   "execution_count": 102,
   "metadata": {},
   "outputs": [],
   "source": [
    "df['Temp_R'] = df.Temp_F+460"
   ]
  },
  {
   "cell_type": "code",
   "execution_count": 103,
   "metadata": {},
   "outputs": [],
   "source": [
    "df['inv_Temp_R'] = 1/df.Temp_R"
   ]
  },
  {
   "cell_type": "code",
   "execution_count": 104,
   "metadata": {},
   "outputs": [
    {
     "data": {
      "text/html": [
       "<div>\n",
       "<style scoped>\n",
       "    .dataframe tbody tr th:only-of-type {\n",
       "        vertical-align: middle;\n",
       "    }\n",
       "\n",
       "    .dataframe tbody tr th {\n",
       "        vertical-align: top;\n",
       "    }\n",
       "\n",
       "    .dataframe thead th {\n",
       "        text-align: right;\n",
       "    }\n",
       "</style>\n",
       "<table border=\"1\" class=\"dataframe\">\n",
       "  <thead>\n",
       "    <tr style=\"text-align: right;\">\n",
       "      <th></th>\n",
       "      <th>Temp_F</th>\n",
       "      <th>Vapor_Pressure</th>\n",
       "      <th>Temp_R</th>\n",
       "      <th>inv_Temp_R</th>\n",
       "    </tr>\n",
       "  </thead>\n",
       "  <tbody>\n",
       "    <tr>\n",
       "      <th>0</th>\n",
       "      <td>155.7</td>\n",
       "      <td>14.7</td>\n",
       "      <td>615.7</td>\n",
       "      <td>0.001624</td>\n",
       "    </tr>\n",
       "    <tr>\n",
       "      <th>1</th>\n",
       "      <td>199.4</td>\n",
       "      <td>29.4</td>\n",
       "      <td>659.4</td>\n",
       "      <td>0.001517</td>\n",
       "    </tr>\n",
       "    <tr>\n",
       "      <th>2</th>\n",
       "      <td>269.1</td>\n",
       "      <td>73.5</td>\n",
       "      <td>729.1</td>\n",
       "      <td>0.001372</td>\n",
       "    </tr>\n",
       "    <tr>\n",
       "      <th>3</th>\n",
       "      <td>331.9</td>\n",
       "      <td>147.0</td>\n",
       "      <td>791.9</td>\n",
       "      <td>0.001263</td>\n",
       "    </tr>\n",
       "    <tr>\n",
       "      <th>4</th>\n",
       "      <td>408.9</td>\n",
       "      <td>293.9</td>\n",
       "      <td>868.9</td>\n",
       "      <td>0.001151</td>\n",
       "    </tr>\n",
       "    <tr>\n",
       "      <th>5</th>\n",
       "      <td>454.6</td>\n",
       "      <td>435.0</td>\n",
       "      <td>914.6</td>\n",
       "      <td>0.001093</td>\n",
       "    </tr>\n",
       "  </tbody>\n",
       "</table>\n",
       "</div>"
      ],
      "text/plain": [
       "   Temp_F  Vapor_Pressure  Temp_R  inv_Temp_R\n",
       "0   155.7            14.7   615.7    0.001624\n",
       "1   199.4            29.4   659.4    0.001517\n",
       "2   269.1            73.5   729.1    0.001372\n",
       "3   331.9           147.0   791.9    0.001263\n",
       "4   408.9           293.9   868.9    0.001151\n",
       "5   454.6           435.0   914.6    0.001093"
      ]
     },
     "execution_count": 104,
     "metadata": {},
     "output_type": "execute_result"
    }
   ],
   "source": [
    "df"
   ]
  },
  {
   "cell_type": "code",
   "execution_count": 105,
   "metadata": {},
   "outputs": [],
   "source": [
    "df['log_Pv'] = np.log(df.Vapor_Pressure)"
   ]
  },
  {
   "cell_type": "code",
   "execution_count": 106,
   "metadata": {},
   "outputs": [
    {
     "data": {
      "text/html": [
       "<div>\n",
       "<style scoped>\n",
       "    .dataframe tbody tr th:only-of-type {\n",
       "        vertical-align: middle;\n",
       "    }\n",
       "\n",
       "    .dataframe tbody tr th {\n",
       "        vertical-align: top;\n",
       "    }\n",
       "\n",
       "    .dataframe thead th {\n",
       "        text-align: right;\n",
       "    }\n",
       "</style>\n",
       "<table border=\"1\" class=\"dataframe\">\n",
       "  <thead>\n",
       "    <tr style=\"text-align: right;\">\n",
       "      <th></th>\n",
       "      <th>Temp_F</th>\n",
       "      <th>Vapor_Pressure</th>\n",
       "      <th>Temp_R</th>\n",
       "      <th>inv_Temp_R</th>\n",
       "      <th>log_Pv</th>\n",
       "    </tr>\n",
       "  </thead>\n",
       "  <tbody>\n",
       "    <tr>\n",
       "      <th>0</th>\n",
       "      <td>155.7</td>\n",
       "      <td>14.7</td>\n",
       "      <td>615.7</td>\n",
       "      <td>0.001624</td>\n",
       "      <td>2.687847</td>\n",
       "    </tr>\n",
       "    <tr>\n",
       "      <th>1</th>\n",
       "      <td>199.4</td>\n",
       "      <td>29.4</td>\n",
       "      <td>659.4</td>\n",
       "      <td>0.001517</td>\n",
       "      <td>3.380995</td>\n",
       "    </tr>\n",
       "    <tr>\n",
       "      <th>2</th>\n",
       "      <td>269.1</td>\n",
       "      <td>73.5</td>\n",
       "      <td>729.1</td>\n",
       "      <td>0.001372</td>\n",
       "      <td>4.297285</td>\n",
       "    </tr>\n",
       "    <tr>\n",
       "      <th>3</th>\n",
       "      <td>331.9</td>\n",
       "      <td>147.0</td>\n",
       "      <td>791.9</td>\n",
       "      <td>0.001263</td>\n",
       "      <td>4.990433</td>\n",
       "    </tr>\n",
       "    <tr>\n",
       "      <th>4</th>\n",
       "      <td>408.9</td>\n",
       "      <td>293.9</td>\n",
       "      <td>868.9</td>\n",
       "      <td>0.001151</td>\n",
       "      <td>5.683240</td>\n",
       "    </tr>\n",
       "    <tr>\n",
       "      <th>5</th>\n",
       "      <td>454.6</td>\n",
       "      <td>435.0</td>\n",
       "      <td>914.6</td>\n",
       "      <td>0.001093</td>\n",
       "      <td>6.075346</td>\n",
       "    </tr>\n",
       "  </tbody>\n",
       "</table>\n",
       "</div>"
      ],
      "text/plain": [
       "   Temp_F  Vapor_Pressure  Temp_R  inv_Temp_R    log_Pv\n",
       "0   155.7            14.7   615.7    0.001624  2.687847\n",
       "1   199.4            29.4   659.4    0.001517  3.380995\n",
       "2   269.1            73.5   729.1    0.001372  4.297285\n",
       "3   331.9           147.0   791.9    0.001263  4.990433\n",
       "4   408.9           293.9   868.9    0.001151  5.683240\n",
       "5   454.6           435.0   914.6    0.001093  6.075346"
      ]
     },
     "execution_count": 106,
     "metadata": {},
     "output_type": "execute_result"
    }
   ],
   "source": [
    "df"
   ]
  },
  {
   "cell_type": "code",
   "execution_count": 107,
   "metadata": {},
   "outputs": [
    {
     "data": {
      "image/png": "[encoded data removed]",
      "text/plain": [
       "<Figure size 432x288 with 1 Axes>"
      ]
     },
     "metadata": {},
     "output_type": "display_data"
    }
   ],
   "source": [
    "plt.scatter(df.inv_Temp_R,df.log_Pv)\n",
    "plt.show()"
   ]
  },
  {
   "cell_type": "markdown",
   "metadata": {},
   "source": [
    "**Code below shows how to generate and save high-quality plots**"
   ]
  },
  {
   "cell_type": "code",
   "execution_count": 110,
   "metadata": {},
   "outputs": [
    {
     "data": {
      "image/png": "[encoded data removed]",
      "text/plain": [
       "<Figure size 700x500 with 1 Axes>"
      ]
     },
     "metadata": {},
     "output_type": "display_data"
    }
   ],
   "source": [
    "Fig1 = plt.figure(figsize=(7,5), dpi=100)\n",
    "# Add set of axes to figure\n",
    "axes = Fig1.add_axes([0.15, 0.15, 0.7, 0.7])# left, bottom, width, height (range 0 to 1)\n",
    "\n",
    "# Plot on that set of axes\n",
    "axes.plot(df['inv_Temp_R'], df['log_Pv'], color=\"red\", ls='none', marker='o', markersize=5,label = 'ln_Pv')\n",
    "axes.legend()\n",
    "axes.set_title('Plot of ln(PV) vs 1/T', fontsize=13, fontweight='bold')\n",
    "axes.set_xlabel('1/T_inRankine', fontsize=12, fontweight='bold') # Notice the use of set_ to begin methods\n",
    "axes.set_ylabel('ln(Pv), in ln(psi)', fontsize=12, fontweight='bold')\n",
    "axes.set_xlim([0.0005, 0.002])\n",
    "\n",
    "#Code below shows how to save plot. Note that dpi=600 gives high resolution, which is good for publications...\n",
    "Fig1.savefig(\"CoxChart.png\", dpi=600)"
   ]
  },
  {
   "cell_type": "code",
   "execution_count": 111,
   "metadata": {},
   "outputs": [
    {
     "name": "stdout",
     "output_type": "stream",
     "text": [
      "-6354.286993042116 13.012004816894127 -0.9999759602665691\n"
     ]
    }
   ],
   "source": [
    "[slope,inter,r,p,stderr]=ss.linregress(df.inv_Temp_R,df.log_Pv)\n",
    "print (slope,inter,r)"
   ]
  },
  {
   "cell_type": "code",
   "execution_count": 112,
   "metadata": {},
   "outputs": [
    {
     "data": {
      "image/png": "[encoded data removed]",
      "text/plain": [
       "<Figure size 432x288 with 1 Axes>"
      ]
     },
     "metadata": {},
     "output_type": "display_data"
    }
   ],
   "source": [
    "Pv1 = np.array(df.inv_Temp_R)*slope+inter\n",
    "plt.scatter(df.inv_Temp_R,df.log_Pv)\n",
    "plt.plot(df.inv_Temp_R,Pv1)\n",
    "if inter > 0:\n",
    "    sign = '+'\n",
    "else:\n",
    "    sign = '-'\n",
    "txt = 'ln(Pv) = '+str(round(slope,4))+'*(1/T) '+sign+' '+str(abs(round(inter,4)))\n",
    "plt.legend([txt,'Data'])\n",
    "plt.xlabel('1/Temp(R)')\n",
    "plt.ylabel('ln(Pv)')\n",
    "plt.show()"
   ]
  },
  {
   "cell_type": "markdown",
   "metadata": {},
   "source": [
    "### Calculate Vapor Pressure at 300F"
   ]
  },
  {
   "cell_type": "code",
   "execution_count": 69,
   "metadata": {},
   "outputs": [
    {
     "name": "stdout",
     "output_type": "stream",
     "text": [
      "104.70018435637517\n"
     ]
    }
   ],
   "source": [
    "T = 300 + 460\n",
    "ln_Pv = slope*(1/T)+inter\n",
    "Pv = np.exp(ln_Pv)\n",
    "print(Pv)"
   ]
  }
 ],
 "metadata": {
  "kernelspec": {
   "display_name": "Python 3",
   "language": "python",
   "name": "python3"
  },
  "language_info": {
   "codemirror_mode": {
    "name": "ipython",
    "version": 3
   },
   "file_extension": ".py",
   "mimetype": "text/x-python",
   "name": "python",
   "nbconvert_exporter": "python",
   "pygments_lexer": "ipython3",
   "version": "3.6.8"
  }
 },
 "nbformat": 4,
 "nbformat_minor": 2
}
