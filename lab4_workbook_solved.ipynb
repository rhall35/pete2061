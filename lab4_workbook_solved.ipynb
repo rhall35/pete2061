{
 "cells": [
  {
   "cell_type": "markdown",
   "metadata": {
    "colab_type": "text",
    "id": "u1YDPNtbdHDj"
   },
   "source": [
    "# Control Structures and Data Frames\n",
    "\n",
    "## PETE 2061 Lab 4 Workbook \n",
    "\n",
    "## THIS IS DUE BY 10:20 AM TODAY\n",
    "\n",
    "<a id='top'></a>"
   ]
  },
  {
   "cell_type": "markdown",
   "metadata": {},
   "source": [
    "1. Paste the url (or link) to the pete2061 folder in your github account in the \"marked down\" cell below. <br>"
   ]
  },
  {
   "cell_type": "markdown",
   "metadata": {},
   "source": []
  },
  {
   "cell_type": "markdown",
   "metadata": {},
   "source": [
    "2. It is commonly said that one human year is equivalent to 7 dog years. However, this simple conversion fails to recognize that dogs reach adulthood in approximately two years. As a result, some people believe that it is better to count each of the first two human years as 10.5 dog years, and then count each additional human year as 4 dog\n",
    "years. <br>\n",
    "Write a program that implements the conversion from human years to dog years described in the previous paragraph. Ensure that your program works correctly for conversions of less than two human years and for conversions of two or more human years. Your program should generate a random number between 0 and 10, and display an appropriate error message if the user enters a number that is outside this range. <br>\n",
    "Hints: <br>\n",
    "a. Remember that you can generate a random number between 0 and 1 using the function numpy.random.random(1)<br>\n",
    "b. You can scale this random number to go from 0 to 10 by multiplying it by 10<br>\n",
    "c. At this point what you have is a random floating-point number that goes from 0 to 10. You need to convert this floating-point number to an integer using the int() function."
   ]
  },
  {
   "cell_type": "code",
   "execution_count": 33,
   "metadata": {},
   "outputs": [
    {
     "name": "stdout",
     "output_type": "stream",
     "text": [
      "2 human years = 21.0 dog years\n"
     ]
    }
   ],
   "source": [
    "import numpy as np\n",
    "\n",
    "age2convert = int(10*np.random.random(1)) #3\n",
    "\n",
    "if (age2convert < 0 or age2convert > 10):\n",
    "    print(\"Age does not fall within specified range\")\n",
    "elif age2convert <= 2:\n",
    "    dogYears = age2convert * 10.5\n",
    "elif (age2convert <= 10):\n",
    "    dogYears = 21 + (age2convert - 2) * 4\n",
    "else:\n",
    "    print(\"Error! Code should never get here\")\n",
    " \n",
    "print(f\"{age2convert} human years = {dogYears} dog years\")"
   ]
  },
  {
   "cell_type": "markdown",
   "metadata": {},
   "source": [
    "3. For Students A through J, generate 10 different random numbers between 0 and 100. Create a dataframe to store the student names in the first column (called \"Name\"), and store the scores in the second column called \"Score\".\n",
    "   Print out the mean, standard deviation and maximum of the scores, as well as the index of the student with this maximum score. "
   ]
  },
  {
   "cell_type": "code",
   "execution_count": null,
   "metadata": {},
   "outputs": [],
   "source": [
    "import numpy as np\n",
    "import pandas as pd\n",
    "Name='A B C D E F G H I J'.split()  # or Name='A B C D E F G H I J'.split()\n",
    "myRandInt = np.random.randint(low=0, high=100, size=10)\n",
    "df=pd.DataFrame({'Name':Name,'Score':myRandInt})\n",
    "print(df)\n",
    "print(df.describe())\n",
    "print(np.argmax(df['Score'].values))   #.values converts the dataframe to numpy arrays.\n",
    "#or print(df['Score'].idxmax())"
   ]
  },
  {
   "cell_type": "markdown",
   "metadata": {},
   "source": [
    "4. Write a program that begins by reading a score in percentage (%) from the user. Then your program should compute and display the equivalent letter grade. Ensure that your program generates an appropriate error message if the user enters an invalid score.\n",
    "Use the grading scale on your syllabus. These scores are typed in below."
   ]
  },
  {
   "cell_type": "code",
   "execution_count": 3,
   "metadata": {},
   "outputs": [
    {
     "name": "stdout",
     "output_type": "stream",
     "text": [
      "Enter a score between 0 and 100:87\n",
      "Your letter grade is B+\n"
     ]
    }
   ],
   "source": [
    "letterGrade = ['A+','A','A-','B+','B','B-','C+','C','C-','D+','D','D-']\n",
    "scores = [97,93,90,87,83,80,77,73,70,67,63,60]\n",
    "# A score of less than 60 gets a letter grade of F\n",
    "\n",
    "score = float(input(\"Enter a score between 0 and 100:\"))\n",
    "if score >= 97:\n",
    "    print(\"Your letter grade is A+\")\n",
    "elif score >= 93:\n",
    "    print(\"Your letter grade is A\")\n",
    "elif score >= 90:\n",
    "    print(\"Your letter grade is A-\")\n",
    "elif score >= 87:\n",
    "    print(\"Your letter grade is B+\")\n",
    "elif score >= 83:\n",
    "    print(\"Your letter grade is B\")\n",
    "elif score >= 80:\n",
    "    print(\"Your letter grade is B-\")\n",
    "elif score >= 77:\n",
    "    print(\"Your letter grade is C+\")\n",
    "elif score >= 73:\n",
    "    print(\"Your letter grade is C\")\n",
    "elif score >= 70:\n",
    "    print(\"Your letter grade is C-\")\n",
    "elif score >= 67:\n",
    "    print(\"Your letter grade is D+\")\n",
    "elif score >= 63:\n",
    "    print(\"Your letter grade is D\")\n",
    "elif score >= 60:\n",
    "    print(\"Your letter grade is D-\")\n",
    "else:\n",
    "    print(\"Your letter grade is F\")"
   ]
  },
  {
   "cell_type": "markdown",
   "metadata": {},
   "source": [
    "5. Write a program that generates 10 random integers, and then prints the largest odd number that was entered. If no odd number was entered it should print a message to that effect. <br>\n",
    "Hints: <br>\n",
    "    a. Use pseudo-code. <br>\n",
    "    b. Generate a random number using the code below:<br>\n",
    "    myRandInt = np.random.randint(low=1, high=20, size=10)<br>\n",
    "    c. Initialize an empty list to contain the odd numbers. Name this list oddInt <br>\n",
    "    d. Within your for loop, you can append odd numbers to this empty list using the append function. eg: <br>\n",
    "    oddInt.append(\"The current odd number from the list should be put in here!\")"
   ]
  },
  {
   "cell_type": "code",
   "execution_count": 32,
   "metadata": {},
   "outputs": [
    {
     "name": "stdout",
     "output_type": "stream",
     "text": [
      "[18 13 11 19 19 10 12 13  7  5]\n",
      "19\n"
     ]
    }
   ],
   "source": [
    "import numpy as np\n",
    "myRandInt = np.random.randint(low=1, high=20, size=10)\n",
    "print(myRandInt)\n",
    "\n",
    "evenInt = []\n",
    "oddInt = []\n",
    "for myInt in myRandInt:\n",
    "    if (myInt%2 == 0):\n",
    "        #even\n",
    "        evenInt.append(myInt)\n",
    "    else:\n",
    "        #odd\n",
    "        oddInt.append(myInt)\n",
    "\n",
    "if (len(oddInt) > 0):\n",
    "    print(np.max(oddInt))\n",
    "else:\n",
    "    print(\"No odd number was entered\")\n"
   ]
  }
 ],
 "metadata": {
  "colab": {
   "collapsed_sections": [
    "sYQs3O-6dHFb",
    "8sIJ4A57dHFk",
    "_73RPOcBdHFn",
    "h9s2tfPcdHFo",
    "zt4YHVYPdHGR"
   ],
   "include_colab_link": true,
   "name": "Copy of intro-python-colab.ipynb",
   "provenance": [],
   "version": "0.3.2"
  },
  "kernelspec": {
   "display_name": "Python 3",
   "language": "python",
   "name": "python3"
  },
  "language_info": {
   "codemirror_mode": {
    "name": "ipython",
    "version": 3
   },
   "file_extension": ".py",
   "mimetype": "text/x-python",
   "name": "python",
   "nbconvert_exporter": "python",
   "pygments_lexer": "ipython3",
   "version": "3.6.8"
  }
 },
 "nbformat": 4,
 "nbformat_minor": 1
}
