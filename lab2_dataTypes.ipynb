{
 "cells": [
  {
   "cell_type": "markdown",
   "metadata": {
    "colab_type": "text",
    "id": "view-in-github"
   },
   "source": [
    "<a href=\"https://colab.research.google.com/github/lsuhpchelp/lbrnloniworkshop2019/blob/master/day1_python/intro_python.ipynb\" target=\"_parent\"><img src=\"https://colab.research.google.com/assets/colab-badge.svg\" alt=\"Open In Colab\"/></a>"
   ]
  },
  {
   "cell_type": "markdown",
   "metadata": {
    "colab_type": "text",
    "id": "u1YDPNtbdHDj"
   },
   "source": [
    "\n",
    " #  Data Types in Python\n",
    "\n",
    "## PETE 2061 Lab 2\n",
    "\n",
    "<a id='top'></a>"
   ]
  },
  {
   "cell_type": "markdown",
   "metadata": {
    "colab_type": "text",
    "id": "DqzfTKX_dHDq"
   },
   "source": [
    "<a id='data-type'></a>\n",
    "## Topics Covered   \n",
    "<font color=blue>\n",
    "* [Number](#numbers)\n",
    "* [Python \"math\" package](#math)\n",
    "* [String](#string)\n",
    "* [List](#list)\n",
    "* [Tuple](#tuple)\n",
    "* [Dictionary](#dic)   \n",
    " </font>\n",
    " <br>"
   ]
  },
  {
   "cell_type": "markdown",
   "metadata": {
    "colab_type": "text",
    "id": "KWM_ojx6dHDq"
   },
   "source": [
    "<a id='numbers'></a>\n",
    "## Numbers (Integers, Real and Complex Numbers)"
   ]
  },
  {
   "cell_type": "markdown",
   "metadata": {},
   "source": [
    "Considering that Python is dynamically-typed, it is very easy to work with integers (whole numbers), floating-point numbers (real numbers) and complex numbers. The Python function \"type()\" will return the data type for any Python variable."
   ]
  },
  {
   "cell_type": "code",
   "execution_count": null,
   "metadata": {
    "colab": {},
    "colab_type": "code",
    "id": "_yOMyLthdHDr"
   },
   "outputs": [],
   "source": [
    "i = 3 #Good programming practice is to name integers: i,j,k, etc\n",
    "type(i)"
   ]
  },
  {
   "cell_type": "code",
   "execution_count": null,
   "metadata": {
    "colab": {},
    "colab_type": "code",
    "id": "R_hrkRhMdHDv"
   },
   "outputs": [],
   "source": [
    "y1,y2 = 3.2,5.1e3\n",
    "type(y1)"
   ]
  },
  {
   "cell_type": "code",
   "execution_count": null,
   "metadata": {},
   "outputs": [],
   "source": [
    "print(f\"The types of y1 and y2 are {type(y1)} and {type(y2)}, respectively\")"
   ]
  },
  {
   "cell_type": "code",
   "execution_count": null,
   "metadata": {},
   "outputs": [],
   "source": [
    "isBoolean = True\n",
    "type(isBoolean)"
   ]
  },
  {
   "cell_type": "code",
   "execution_count": null,
   "metadata": {},
   "outputs": [],
   "source": [
    "xBin = 0b0110   #This is the binary representation of 6 in computer memory\n",
    "type(xBin)"
   ]
  },
  {
   "cell_type": "code",
   "execution_count": null,
   "metadata": {},
   "outputs": [],
   "source": [
    "print(f\"The integer equivalent of the binary number stored in xBin is {xBin}\")"
   ]
  },
  {
   "cell_type": "code",
   "execution_count": null,
   "metadata": {},
   "outputs": [],
   "source": [
    "x = 3+5j  #complex numbers are written as the real part (3 in this case) + the imaginary part (5j)\n",
    "y = 5j    #this complex number has no real part.\n",
    "\n",
    "print(type(x))\n",
    "print(type(y))\n"
   ]
  },
  {
   "cell_type": "code",
   "execution_count": null,
   "metadata": {},
   "outputs": [],
   "source": [
    "print(f\"x = {x} and y = {y} \")"
   ]
  },
  {
   "cell_type": "markdown",
   "metadata": {},
   "source": [
    "## Conversion between data types\n",
    "You can also convert variables (and values) from one data type to another"
   ]
  },
  {
   "cell_type": "code",
   "execution_count": null,
   "metadata": {
    "colab": {},
    "colab_type": "code",
    "id": "EnO7Vu1QdHD0"
   },
   "outputs": [],
   "source": [
    "int(3.3)  #converts floating-point number \"3.3\" to integer \"3\""
   ]
  },
  {
   "cell_type": "code",
   "execution_count": null,
   "metadata": {},
   "outputs": [],
   "source": [
    "x = float(i)\n",
    "j = int(x) \n",
    "print(f\"x = {x}, j = {j} and their data types are {type(x)} and {type(j)}, respectively\")"
   ]
  },
  {
   "cell_type": "code",
   "execution_count": null,
   "metadata": {
    "colab": {},
    "colab_type": "code",
    "id": "fvDUy7nIdHD3"
   },
   "outputs": [],
   "source": [
    "z = complex(3) #converts integer \"3\" to a complex number with a real part 3.0 and imaginary part \"0\"\n",
    "type(z)"
   ]
  },
  {
   "cell_type": "code",
   "execution_count": null,
   "metadata": {},
   "outputs": [],
   "source": [
    "print(f\"z = {z} and its data type is {type(z)} \")"
   ]
  },
  {
   "cell_type": "markdown",
   "metadata": {},
   "source": [
    "<a id='math'></a>\n",
    "## Python \"math\" package\n",
    "* You can import packages written by other developers and make them available for use in your code. \n",
    "* This is achieved using the \"import\" command, followed by the name of the package"
   ]
  },
  {
   "cell_type": "code",
   "execution_count": null,
   "metadata": {
    "colab": {},
    "colab_type": "code",
    "id": "EzSyMKwidHD8"
   },
   "outputs": [],
   "source": [
    "abs(-3.3)   # this uses Python built-in \"abs\" function"
   ]
  },
  {
   "cell_type": "code",
   "execution_count": null,
   "metadata": {
    "colab": {},
    "colab_type": "code",
    "id": "ys2eoOtddHD6"
   },
   "outputs": [],
   "source": [
    "import math  #this imports the \"math\" package and makes several mathematical functions available"
   ]
  },
  {
   "cell_type": "code",
   "execution_count": null,
   "metadata": {
    "colab": {},
    "colab_type": "code",
    "id": "sqSaUXiwdHD-"
   },
   "outputs": [],
   "source": [
    "math.sin(60)"
   ]
  },
  {
   "cell_type": "code",
   "execution_count": null,
   "metadata": {
    "colab": {},
    "colab_type": "code",
    "id": "ZAzv0ophdHEA"
   },
   "outputs": [],
   "source": [
    "math.sqrt(25)"
   ]
  },
  {
   "cell_type": "code",
   "execution_count": null,
   "metadata": {},
   "outputs": [],
   "source": [
    "math.exp(-0.1)"
   ]
  },
  {
   "cell_type": "code",
   "execution_count": null,
   "metadata": {},
   "outputs": [],
   "source": [
    "math.log(math.exp(1.0))   #math.log() returns the natural logarithm and not the log to base 10"
   ]
  },
  {
   "cell_type": "code",
   "execution_count": null,
   "metadata": {},
   "outputs": [],
   "source": [
    "math.log10(100)   #this returns the log to base 10"
   ]
  },
  {
   "cell_type": "code",
   "execution_count": null,
   "metadata": {},
   "outputs": [],
   "source": [
    "math.pi  #prints out the value of pi"
   ]
  },
  {
   "cell_type": "markdown",
   "metadata": {
    "colab_type": "text",
    "id": "_XDWU4R-dHED"
   },
   "source": [
    "<a id='string'></a>\n",
    "## Strings"
   ]
  },
  {
   "cell_type": "code",
   "execution_count": null,
   "metadata": {},
   "outputs": [],
   "source": [
    "z='hello'\n",
    "type(z)"
   ]
  },
  {
   "cell_type": "code",
   "execution_count": null,
   "metadata": {
    "colab": {},
    "colab_type": "code",
    "id": "lRqQ2KwHdHEE"
   },
   "outputs": [],
   "source": [
    "my_str = 'Hello World'"
   ]
  },
  {
   "cell_type": "code",
   "execution_count": null,
   "metadata": {
    "colab": {},
    "colab_type": "code",
    "id": "4R7QI39sdHEG"
   },
   "outputs": [],
   "source": [
    "print(my_str); len(my_str)   #You can write multiple lines of code on one line and separate them with a semicolon (;)"
   ]
  },
  {
   "cell_type": "code",
   "execution_count": null,
   "metadata": {
    "colab": {},
    "colab_type": "code",
    "id": "W7x8SIXBdHEK"
   },
   "outputs": [],
   "source": [
    "len(my_str); print(len(my_str)) #The in-built Python function len() returns the length/number of characters in a string"
   ]
  },
  {
   "cell_type": "code",
   "execution_count": null,
   "metadata": {
    "colab": {},
    "colab_type": "code",
    "id": "4zQd6w2odHEN"
   },
   "outputs": [],
   "source": [
    "#indexing starts at 0 in Python! So index 1 will correspond to the 2nd element in the string!\n",
    "print(my_str[0]); print(my_str[1]); print(my_str[10])"
   ]
  },
  {
   "cell_type": "code",
   "execution_count": null,
   "metadata": {
    "colab": {},
    "colab_type": "code",
    "id": "sM7y1xrzdHEQ"
   },
   "outputs": [],
   "source": [
    "#string slicing\n",
    "print(my_str[1:4])  #Ranges in Python ([1:4]) include the first index (1) but exclude the 2nd number (4)\n",
    "print(my_str[:])\n",
    "print(my_str[1:])"
   ]
  },
  {
   "cell_type": "code",
   "execution_count": null,
   "metadata": {
    "colab": {},
    "colab_type": "code",
    "id": "jZ3WiHyQdHET"
   },
   "outputs": [],
   "source": [
    "#string split\n",
    "s1, s2 = my_str.split()   #The split() function splits strings using the \"space\" character by default\n",
    "print(s1); print(s2)\n",
    "a = \"Hello, World!\"\n",
    "s3, s4 = a.split(\",\")     #Here, the string delimiter is specificied as the comma (,)\n",
    "print(f\"s3 = {s3} and s4 = {s4}\")  # returns ['Hello', ' World!']\n",
    "print(a.split(\",\") )      #Shows clearly that the space is stored as part of s4"
   ]
  },
  {
   "cell_type": "code",
   "execution_count": null,
   "metadata": {},
   "outputs": [],
   "source": [
    "print(a.replace(\"H\", \"J\"))  #The replace() method replaces a string with another string"
   ]
  },
  {
   "cell_type": "code",
   "execution_count": null,
   "metadata": {},
   "outputs": [],
   "source": [
    "#string concatenation\n",
    "a = \"Hello\"\n",
    "b = \"World\"\n",
    "c = a + \" \" + b # + acts as a concatenation operator in strings. It merges a with a space, and the merges that with b\n",
    "print(c)"
   ]
  },
  {
   "cell_type": "code",
   "execution_count": null,
   "metadata": {
    "colab": {},
    "colab_type": "code",
    "id": "TW0WIQredHEX"
   },
   "outputs": [],
   "source": [
    "#multiple line spanning\n",
    "multilines= \"\"\"This is a multi-line\n",
    "block of sample\n",
    " text\"\"\"\n",
    "print(multilines)"
   ]
  },
  {
   "cell_type": "code",
   "execution_count": null,
   "metadata": {
    "colab": {},
    "colab_type": "code",
    "id": "-2c8QnMTdHEb"
   },
   "outputs": [],
   "source": [
    "#string formatting\n",
    "text = \"%d pigs in the barn, I’ll %s and %s\" %(300,'huff','puff')  #%d and %s are for integer and string formating, respectively\n",
    "print(text)"
   ]
  },
  {
   "cell_type": "code",
   "execution_count": null,
   "metadata": {
    "colab": {},
    "colab_type": "code",
    "id": "IhrNjeUHdHEd"
   },
   "outputs": [],
   "source": [
    "total= \"my share = %.5f, tip = %d\" %(24.5, 5.5)  #%.5f means use floating point number formating with 5 decimal places\n",
    "print(total)"
   ]
  },
  {
   "cell_type": "code",
   "execution_count": null,
   "metadata": {
    "colab": {},
    "colab_type": "code",
    "id": "-ys2Eo35dHEf"
   },
   "outputs": [],
   "source": [
    "#more string operations\n",
    "my_str=\"Hello World\"\n",
    "print(my_str.upper())       #Converts my_str to upper case\n",
    "print(my_str.lower())       #Converts my_str to lower case\n",
    "print(my_str.isalpha())     #isalpha() method checks whether the string consists of alphabetic characters only\n",
    "print(my_str[0].isalpha())  #the space character (\" \") in Hello World is not an alphabet.\n",
    "a='12'\n",
    "print(a.isdigit())   #isdigit() tests if what is stored in a string is a number."
   ]
  },
  {
   "cell_type": "code",
   "execution_count": null,
   "metadata": {},
   "outputs": [],
   "source": [
    "teststr = \"HelloWorld\"\n",
    "print(teststr.isalpha())"
   ]
  },
  {
   "cell_type": "code",
   "execution_count": null,
   "metadata": {},
   "outputs": [],
   "source": [
    "myStr = \" Hello, World! \"\n",
    "print(myStr.strip()) # returns \"Hello, World!\"#The strip() method removes any whitespace from the beginning or the end:"
   ]
  },
  {
   "cell_type": "markdown",
   "metadata": {
    "colab_type": "text",
    "id": "_GSJRSDDdHEj"
   },
   "source": [
    "<a id='list'></a>\n",
    "## Lists\n",
    "* A list is a collection of data which is ordered and changeable. \n",
    "* It allows duplicate members.\n",
    "* It is mutable, meaning that its elements/members can be modified in place without creating a new object\n",
    "* It is commonly used to store homogeneous values like numbers or strinds with the same data type\n",
    "* Its members are accessed as strings\n",
    "* It is one of the four collection data types in the Python.\n",
    "    * the others are tuple, set and dictionary\n"
   ]
  },
  {
   "cell_type": "code",
   "execution_count": null,
   "metadata": {
    "colab": {},
    "colab_type": "code",
    "id": "kjuBDd2CdHEj"
   },
   "outputs": [],
   "source": [
    "myList = [1,2,9,4]\n",
    "print(myList)\n",
    "#how do you find its data type?\n",
    "type(myList)"
   ]
  },
  {
   "cell_type": "code",
   "execution_count": null,
   "metadata": {},
   "outputs": [],
   "source": [
    "fruitList = [\"apple\", \"banana\", \"cherry\"]\n",
    "print(fruitList)\n",
    "print(fruitList[0]) #access first element. Python indexing starts at 0, and ends at n-1"
   ]
  },
  {
   "cell_type": "code",
   "execution_count": null,
   "metadata": {},
   "outputs": [],
   "source": [
    "#Negative Indexing\n",
    "#Negative indexing means beginning from the end, -1 refers to the last item, -2 refers to the second last item etc.\n",
    "print(fruitList[-1])"
   ]
  },
  {
   "cell_type": "code",
   "execution_count": null,
   "metadata": {},
   "outputs": [],
   "source": [
    "fruitList = [\"apple\", \"banana\", \"cherry\", \"orange\", \"kiwi\", \"melon\", \"mango\"]\n",
    "print(fruitList[1:4])  #indexing starts and 0 in Python. The 5th item in the list will not be included\n",
    "print(fruitList[-4:-1]) #again the last item (at index -1) will not be included"
   ]
  },
  {
   "cell_type": "code",
   "execution_count": null,
   "metadata": {},
   "outputs": [],
   "source": [
    "fruitList[1] = \"blackcurrant\"  #this replaces \"banana\" with \"blackcurrant\". Index of 1 corresponds to 2nd element\n",
    "print(fruitList)"
   ]
  },
  {
   "cell_type": "code",
   "execution_count": null,
   "metadata": {},
   "outputs": [],
   "source": [
    "#append more members at the end of a list\n",
    "fruitList.append(\"orange\")   #this appends orange to the end of the list even though orange is already in the list\n",
    "print(fruitList)"
   ]
  },
  {
   "cell_type": "code",
   "execution_count": null,
   "metadata": {},
   "outputs": [],
   "source": [
    "#remove item from list\n",
    "fruitList.remove(\"cherry\")\n",
    "fruitList.remove(\"melon\")\n",
    "fruitList.remove(\"kiwi\")\n",
    "fruitList.remove(\"orange\")  #removes first occurence of \"orange\" in the list\n",
    "print(fruitList)"
   ]
  },
  {
   "cell_type": "code",
   "execution_count": null,
   "metadata": {},
   "outputs": [],
   "source": [
    "#insert elements into a list at specified positions\n",
    "fruitList.insert(2,\"melon\"); print(fruitList)\n",
    "fruitList.clear()   #the clear() function empties the list. The list still exists, but is empty\n",
    "print(fruitList)\n",
    "del fruitList         #del can also delete the list completely. The list will cease to exist\n",
    "#What happens if you run print(fruitList) at this point?"
   ]
  },
  {
   "cell_type": "code",
   "execution_count": null,
   "metadata": {
    "colab": {},
    "colab_type": "code",
    "id": "5RGeAbwqdHEm"
   },
   "outputs": [],
   "source": [
    "#The list() constructor can be used to create a list from a range.\n",
    "intRange = range(-4,12,4)  #Format of range() is range(start, stop, increment). 12 is not included in range\n",
    "intList = list(intRange)  \n",
    "print(intList)\n",
    "type(intRange)"
   ]
  },
  {
   "cell_type": "code",
   "execution_count": null,
   "metadata": {
    "colab": {},
    "colab_type": "code",
    "id": "iEmUEwyYdHEr"
   },
   "outputs": [],
   "source": [
    "#Contatenate lists\n",
    "print(intList + intList)  #concatenates intList with intList. Hence, intList is repeated\n",
    "print(intList * 2)         #repeats intList. Result is twice the length of intList\n",
    "print(intList * 3)         #repeats intList two times. Result is three times the length of intList"
   ]
  },
  {
   "cell_type": "code",
   "execution_count": null,
   "metadata": {
    "colab": {},
    "colab_type": "code",
    "id": "FJIrrjo4dHEx"
   },
   "outputs": [],
   "source": [
    "# modifying the integer list\n",
    "del intList[0]; print(intList)\n",
    "intList.append(99); print(intList)\n",
    "intList.insert(1, 100); print(intList)"
   ]
  },
  {
   "cell_type": "code",
   "execution_count": null,
   "metadata": {
    "colab": {},
    "colab_type": "code",
    "id": "Sbs8IVSfdHEy"
   },
   "outputs": [],
   "source": [
    "#Sorting and reversing the list\n",
    "intList.sort();    #The sort() method arranges the elements of the list in ascending order\n",
    "print(intList)\n",
    "intList.reverse(); #The reverse() method reverses the elements of the list\n",
    "print(intList)"
   ]
  },
  {
   "cell_type": "code",
   "execution_count": null,
   "metadata": {
    "colab": {},
    "colab_type": "code",
    "id": "NQUYj0__dHE1"
   },
   "outputs": [],
   "source": [
    "#more sorting\n",
    "my_list = ['cats', 'dogs','sheep','horses']\n",
    "print(sorted(my_list))               #prints list sorted alphabetically.\n",
    "print(sorted(my_list, reverse=True)) #sort alphabetically, then reverse the sorted list\n",
    "print(sorted(my_list, key=len))      #this version sorts first by length (in ascending order), then alphabetically. \n"
   ]
  },
  {
   "cell_type": "markdown",
   "metadata": {},
   "source": [
    "* You cannot copy a list simply by typing list2 = list1\n",
    "* list2 = list1 only makes list2 point to the same location in memory where list1 is stored. \n",
    "    * In computer programming terminology, we say that list2 is \"a reference to\" list 1\n",
    "    * changes to list1 will automatically be reflected in list2\n",
    "    * changes to list2 will also be automatically reflected in list1\n",
    "* To copy and store list1 in list3, we use the built-in List method copy()."
   ]
  },
  {
   "cell_type": "code",
   "execution_count": null,
   "metadata": {},
   "outputs": [],
   "source": [
    "list1 = [\"STOIIP\", \"Area\", \"Porosity\", \"Permeability\"];\n",
    "list2 = list1           #list2 is a reference to list1\n",
    "list3 = list1.copy()    #list3 is a copy of list1. list3 gets stored in a different location in the computer's memory\n",
    "\n",
    "print(list1 is list2)   #this tests if list1 is the same object as list2\n",
    "print(list1 is list3)   #this tests if list1 is the same object as list3\n",
    "print(list1 == list3)   #this tests if the contents of list1 is equivalent to the contents of list3\n",
    "\n",
    "list1[0] = \"Oil_Volume\"\n",
    "print(list2)            #list1 is changed, but this means that the value referenced by list2 is changed\n",
    "\n",
    "list2[1] = \"Rerservoir_Area\"\n",
    "print(list1)            #list2 is changed, but this means that the value referenced by list1 is changed\n",
    "print(list3)            #list3 is just a copy of the original values stored in list1, and was never updated"
   ]
  },
  {
   "cell_type": "code",
   "execution_count": null,
   "metadata": {},
   "outputs": [],
   "source": [
    "#Lists can contain a mix of strings and numbers\n",
    "testList = [\"density\",'viscosity',5.2, 3]\n",
    "print(testList)"
   ]
  },
  {
   "cell_type": "markdown",
   "metadata": {
    "colab_type": "text",
    "id": "SHQYeFQadHE_"
   },
   "source": [
    "<a id='tuple'></a>\n",
    "## Tuples\n",
    "  * A tuple is a collection which is ordered and unchangeable. \n",
    "  * In Python tuples are usually written with round brackets.\n",
    "  * Why Tuple?\n",
    "      * Tuples are processed faster than lists\n",
    "\n",
    "Suprising Trait:\n",
    "\n",
    "Python tuples are immutable, but their values may change. This may happen when a tuple holds a reference to any mutable object, such as a list. "
   ]
  },
  {
   "cell_type": "code",
   "execution_count": null,
   "metadata": {
    "colab": {},
    "colab_type": "code",
    "id": "331x350XgbOG"
   },
   "outputs": [],
   "source": [
    "#empty tuples\n",
    "my_tup = ()\n",
    "print(my_tup)\n",
    "print(type(my_tup))"
   ]
  },
  {
   "cell_type": "code",
   "execution_count": null,
   "metadata": {
    "colab": {},
    "colab_type": "code",
    "id": "PWELXBmJg0LR"
   },
   "outputs": [],
   "source": [
    "# you have to include a comma, even though there is only one value\n",
    "tup1 = (50,)   #The comma is really what defines a tuple\n",
    "print(tup1)\n",
    "myTuple = 50,  #This shows that the comma is really what defines a tuple. The brackets are optional\n",
    "print(myTuple)"
   ]
  },
  {
   "cell_type": "code",
   "execution_count": null,
   "metadata": {
    "colab": {},
    "colab_type": "code",
    "id": "nlgKsOibdHE_"
   },
   "outputs": [],
   "source": [
    "my_tup = (2, 8, 3, 1)\n",
    "print(my_tup)\n",
    "a,b,c,d = my_tup    #Recall this?  Multiple variable assignment uses tuples\n",
    "print(a, b, c, d)"
   ]
  },
  {
   "cell_type": "code",
   "execution_count": null,
   "metadata": {},
   "outputs": [],
   "source": [
    "#my_tup[0] = 3  #This code will fail because tuples are immutable\n",
    "#Python will also not allow you to insert items into or remove items from a tuple\n",
    "#You can contatenate two tuples using the + operator\n",
    "tuple1 = (\"a\", \"b\" , \"c\")\n",
    "tuple2 = (1, 2, 3)\n",
    "\n",
    "tuple3 = tuple1 + tuple2\n",
    "print(tuple3)"
   ]
  },
  {
   "cell_type": "code",
   "execution_count": null,
   "metadata": {
    "colab": {},
    "colab_type": "code",
    "id": "d85nI5mKdHFD"
   },
   "outputs": [],
   "source": [
    "print(my_tup[0])     #You can access tuple items by referring to the index number, inside square brackets\n",
    "print(my_tup[-1])    #this works just like in lists. It accesses the last item stored in my_tup\n",
    "print(my_tup[-4:-1]) #also works like in lists."
   ]
  },
  {
   "cell_type": "code",
   "execution_count": null,
   "metadata": {
    "colab": {},
    "colab_type": "code",
    "id": "xhYi3QKSh7-Z"
   },
   "outputs": [],
   "source": [
    "tup = ('physics', 'chemistry', 1997, 2000) #tuples can contain a mix of strings and numbers\n",
    "print(tup)\n",
    "del tup   #You can delete a tuple completely\n",
    "# what do you expect if the line below is run?\n",
    "#print(tup)"
   ]
  },
  {
   "cell_type": "markdown",
   "metadata": {
    "colab_type": "text",
    "id": "NyCpkyAXh21a"
   },
   "source": [
    "Even though tuples are immutable, you can change mutable objects stored in tuples!"
   ]
  },
  {
   "cell_type": "code",
   "execution_count": null,
   "metadata": {
    "colab": {},
    "colab_type": "code",
    "id": "Iw50ZE55xwG_"
   },
   "outputs": [],
   "source": [
    "dum = ('1861-10-23', ['poetry', 'pretend-fight']) #this tuple contains a list as its 2nd item\n",
    "dee = ('1861-10-23', ['poetry', 'pretend-fight'])\n",
    "\n",
    "print(dum == dee)\n",
    "print(dum is dee)  #dum is not dee because they point to different computer memory locations"
   ]
  },
  {
   "cell_type": "markdown",
   "metadata": {},
   "source": [
    "* The id() function returns a unique id for the specified object.\n",
    "* Every object in Python has its own unique id.\n",
    "* The id is assigned to the object when it is created.\n",
    "* The id is the object's memory address, and will be different each time you run the program (except for some object that has a constant unique id, like integers from -5 to 256)."
   ]
  },
  {
   "cell_type": "code",
   "execution_count": null,
   "metadata": {},
   "outputs": [],
   "source": [
    "id(dum), id(dee)  "
   ]
  },
  {
   "cell_type": "code",
   "execution_count": null,
   "metadata": {
    "colab": {},
    "colab_type": "code",
    "id": "l0RXAHIhyNBX",
    "scrolled": true
   },
   "outputs": [],
   "source": [
    "t_doom = dum   #this alos \"passes a reference\" to dum into the variable \"t_doom\"\n",
    "print(dum, t_doom) #this prints a tuple made of the two tuples- dum and t_doom (which are actually identical)\n",
    "\n",
    "print(t_doom == dum)\n",
    "print(t_doom is dum)\n"
   ]
  },
  {
   "cell_type": "code",
   "execution_count": null,
   "metadata": {},
   "outputs": [],
   "source": [
    "# The assignment operator isn't always a \"pass by reference\" for all data types. \n",
    "# For integers, floats, and other numbers, it \"copies or passes the value\" stored in the variable into the new variable\n",
    "x = 3 \n",
    "y = x  #x is copied by value into y. y will eventually refer to a different location in memory\n",
    "z = 4.3\n",
    "y = 5.2\n",
    "id(x), id(y), id(z)"
   ]
  },
  {
   "cell_type": "code",
   "execution_count": null,
   "metadata": {
    "colab": {},
    "colab_type": "code",
    "id": "TCIJtKzWzEQd"
   },
   "outputs": [],
   "source": [
    "#what do you expect from these lines of code?\n",
    "skills = t_doom[1]\n",
    "print(skills)\n",
    "\n",
    "skills.append('rap')\n",
    "print(t_doom)\n",
    "\n",
    "print(dum)\n",
    "print(dum == dee)"
   ]
  },
  {
   "cell_type": "markdown",
   "metadata": {
    "colab": {},
    "colab_type": "code",
    "id": "23NrzRmr0LFf"
   },
   "source": [
    "These lines of codes shows that even though tuples are said to be immutable, the list stored in the tuple can be changed because lists are mutable\n"
   ]
  },
  {
   "cell_type": "markdown",
   "metadata": {
    "colab_type": "text",
    "id": "7NHEdgtwdHFG"
   },
   "source": [
    "<a id='dic'></a>\n",
    "## Dictionaries\n",
    "* A dictionary is a collection which is unordered, changeable and indexed \n",
    "* In Python dictionaries are written with curly brackets, and they have keys and values\n",
    "* Unordered collections of objects, not indexed\n",
    "* Store objects in a random order to provide faster lookup\n",
    "* Data type are heterogeneous, unlike list\n",
    "* Element are accessed by a keyword, not index\n",
    "* Elements are mutable \n",
    "* dict = {\"key1”: value1,  “key2”: value2} "
   ]
  },
  {
   "cell_type": "code",
   "execution_count": null,
   "metadata": {
    "colab": {},
    "colab_type": "code",
    "id": "9gcG6o9NdHFG"
   },
   "outputs": [],
   "source": [
    "my_dict = {'cats': 4, 'dogs':2, 'sheep':3}\n",
    "print(my_dict)"
   ]
  },
  {
   "cell_type": "code",
   "execution_count": null,
   "metadata": {
    "colab": {},
    "colab_type": "code",
    "id": "ObA5EWGWdHFL"
   },
   "outputs": [],
   "source": [
    "print(my_dict[\"cats\"])"
   ]
  },
  {
   "cell_type": "code",
   "execution_count": null,
   "metadata": {
    "colab": {},
    "colab_type": "code",
    "id": "VNSCBGHSdHFN"
   },
   "outputs": [],
   "source": [
    "my_dict['horse'] = 3     #this adds a new key-value pair into my_dict\n",
    "print(my_dict)\n",
    "print(sorted(my_dict))"
   ]
  },
  {
   "cell_type": "code",
   "execution_count": null,
   "metadata": {
    "colab": {},
    "colab_type": "code",
    "id": "sIfUBr5DdHFR"
   },
   "outputs": [],
   "source": [
    "print(my_dict.keys())\n",
    "print(my_dict.values())\n",
    "print(sorted(my_dict.values()))\n"
   ]
  },
  {
   "cell_type": "code",
   "execution_count": null,
   "metadata": {},
   "outputs": [],
   "source": [
    "my_dict2 = my_dict          #this passes a reference to my_dict into my_dict2\n",
    "my_dict3 = my_dict.copy()   #this stores a copy of my_dict into my_dict3 (copies by value).\n",
    "id(my_dict),id(my_dict2),id(my_dict3)\n",
    "#print(my_dict)"
   ]
  },
  {
   "cell_type": "code",
   "execution_count": null,
   "metadata": {},
   "outputs": [],
   "source": [
    "my_dict.pop(\"horse\") #The pop() method removes the item with the specified key name\n",
    "print(my_dict)"
   ]
  }
 ],
 "metadata": {
  "colab": {
   "collapsed_sections": [
    "sYQs3O-6dHFb",
    "8sIJ4A57dHFk",
    "_73RPOcBdHFn",
    "h9s2tfPcdHFo",
    "zt4YHVYPdHGR"
   ],
   "include_colab_link": true,
   "name": "Copy of intro-python-colab.ipynb",
   "provenance": [],
   "version": "0.3.2"
  },
  "kernelspec": {
   "display_name": "Python 3",
   "language": "python",
   "name": "python3"
  },
  "language_info": {
   "codemirror_mode": {
    "name": "ipython",
    "version": 3
   },
   "file_extension": ".py",
   "mimetype": "text/x-python",
   "name": "python",
   "nbconvert_exporter": "python",
   "pygments_lexer": "ipython3",
   "version": "3.6.8"
  }
 },
 "nbformat": 4,
 "nbformat_minor": 1
}
