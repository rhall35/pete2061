{
 "cells": [
  {
   "cell_type": "markdown",
   "metadata": {
    "colab_type": "text",
    "id": "view-in-github"
   },
   "source": [
    "<a href=\"https://colab.research.google.com/github/lsuhpchelp/lbrnloniworkshop2019/blob/master/day1_python/intro_python.ipynb\" target=\"_parent\"><img src=\"https://colab.research.google.com/assets/colab-badge.svg\" alt=\"Open In Colab\"/></a>"
   ]
  },
  {
   "cell_type": "markdown",
   "metadata": {
    "colab_type": "text",
    "id": "u1YDPNtbdHDj"
   },
   "source": [
    "\n",
    " #  Numpy Arrays and Loops\n",
    "\n",
    "## PETE 2061 Lab 3\n",
    "\n",
    "<a id='top'></a>"
   ]
  },
  {
   "cell_type": "markdown",
   "metadata": {
    "colab_type": "text",
    "id": "VB--CYOSdHDm"
   },
   "source": [
    "<a id='overview'></a>\n",
    "# Topics Covered\n",
    "<font color=blue>\n",
    " * [Numpy Overview](#numpy) \n",
    " * [Numpy arange() function](#arange)\n",
    " * [Array Initialization in Numpy](#array_initialization)  \n",
    " * [Plotting](#plot) \n",
    " * [Universal Functions](#ufunc)\n",
    " * [Aggregation Functions](#aggregation)\n",
    " * [Broadcasting rules](#broadcasting) \n",
    " * [Slicing](#slicing)\n",
    " * [Multidimensional Arrays](#multidim)   \n",
    " * [Control Structures](#control)</font>\n",
    "<br>"
   ]
  },
  {
   "cell_type": "markdown",
   "metadata": {},
   "source": [
    "<a id='numpy'></a>\n",
    "## Numpy Overview\n",
    "- NumPy (Numeric Python) is the fundamental package for scientific computing in Python.\n",
    "- It is a Python library that provides a multidimensional array object, that can store arrays of multiple dimensions.\n",
    "- The NumPy package provides basic routines for manipulating large arrays and matrices of numeric data.\n",
    "- It has several functions for fast operations on arrays, including mathematical, logical, shape manipulation, sorting, selecting, I/O, discrete Fourier transforms, basic linear algebra, basic statistical operations, random simulation, etc.\n",
    " "
   ]
  },
  {
   "cell_type": "code",
   "execution_count": null,
   "metadata": {},
   "outputs": [],
   "source": [
    "import numpy as np           # an alias for the numpy package\n",
    "aList = [1,2,3]\n",
    "bList = [4,5,6]\n",
    "aArray = np.array(aList)     # the np.array() function converts the list [1,2,3] into a numpy array.\n",
    "bArray = np.array(bList)\n",
    "print(aArray)\n",
    "print(bArray)"
   ]
  },
  {
   "cell_type": "code",
   "execution_count": null,
   "metadata": {},
   "outputs": [],
   "source": [
    "print(aArray + bArray)   # the + operator is overloaded to perform element-wise addition on arrays\n",
    "print(aArray * bArray)   # the * operator is overloaded to perform element-wise multiplication on arrays\n",
    "print(aArray ** bArray)  # the ** operator raises each element in aArray to the power of the corresponding element in bArray\n",
    "\n",
    "#Note that this behavior is different from what the + operator does on lists eg.\n",
    "print(aList + bList)     # the + operator is overloaded to concatenate lists"
   ]
  },
  {
   "cell_type": "markdown",
   "metadata": {},
   "source": [
    "Assigning elements in a Numpy array"
   ]
  },
  {
   "cell_type": "code",
   "execution_count": null,
   "metadata": {},
   "outputs": [],
   "source": [
    "aArray[0]=11    # overrides what was in aArray[0] with 11\n",
    "print(aArray)\n",
    "aArray.fill(3)  # sets all the values in the aArray to 3\n",
    "print(aArray)"
   ]
  },
  {
   "cell_type": "code",
   "execution_count": null,
   "metadata": {},
   "outputs": [],
   "source": [
    "#another way to set all the values in the aArray to a constant value\n",
    "aArray[:] = 0 # we need to use [:], ortherwise aArray will get assigned to just an integer value of 0\n",
    "print(aArray)\n",
    "print(aArray.dtype)    #aArray.dtype returns the type of the elements stored in aArray (which is a 64-bit integer)\n",
    "print(type(aArray))    #type(aArray) returns the type of the aArray variable\n",
    "\n",
    "#testing what happens if we do not use [:]\n",
    "aArray = 2\n",
    "print(aArray)\n",
    "aArray = np.array([1,2,3])  #re-create the aArray by passing list [1,2,3] into the np.array() function"
   ]
  },
  {
   "cell_type": "markdown",
   "metadata": {},
   "source": [
    "* All elements of a numpy array have to be of the same data type. \n",
    "* aArray above is of type integer as seen in the cell above.\n",
    "* Assigning a floating point number to any of its elements will round up the number to the nearest integer."
   ]
  },
  {
   "cell_type": "code",
   "execution_count": null,
   "metadata": {},
   "outputs": [],
   "source": [
    "aArray[0] = 3.14  # decimal parts are truncated, be careful!\n",
    "print(aArray)\n",
    "aArray.fill(-3.7)      # fill() will have the same behavior. The array remains an integer array\n",
    "print(aArray)"
   ]
  },
  {
   "cell_type": "markdown",
   "metadata": {},
   "source": [
    "In the cell below, I show three ways of how to create a floating-point array:"
   ]
  },
  {
   "cell_type": "code",
   "execution_count": null,
   "metadata": {},
   "outputs": [],
   "source": [
    "#1. By specifying one or more of the entries of the array to be a float during the creating of the array\n",
    "aArray = np.array([11,12,13.00])\n",
    "print(aArray)\n",
    "\n",
    "#1. By passing \"dtype=float\" as a second argument of the np.array() function\n",
    "aArray = np.array([11,12,13],dtype=float)\n",
    "print(aArray)\n",
    "\n",
    "#3. By calling the astype() Numpy function when the np.Array() is used to create the array\n",
    "aArray = np.array([11,12,13]).astype(float)\n",
    "print(aArray)\n",
    "\n",
    "#Note that all three approaches can be used to create arrays of other numerical data types like integers or complex numbers\n",
    "#try this"
   ]
  },
  {
   "cell_type": "markdown",
   "metadata": {},
   "source": [
    "<a id='arange'></a>\n",
    "## Numpy arange() function. \n",
    "* The format for the arange() function is arange(start, stop, increment)\n",
    "* like the range() function, if you specify only two arguments, it will be for the start and stop; increment will be 1\n",
    "* like the range() function, if you specify only one argument, it will be for the stop; start will be 0 and increment will be 1"
   ]
  },
  {
   "cell_type": "code",
   "execution_count": null,
   "metadata": {},
   "outputs": [],
   "source": [
    "a = np.arange(0,6,1)    #This will create a numpy array that starts at zero and ends at 5.  \n",
    "print(a)\n",
    "#test the idea of specifying only two (and only one) argument(s) here\n"
   ]
  },
  {
   "cell_type": "code",
   "execution_count": null,
   "metadata": {},
   "outputs": [],
   "source": [
    "You can get the shape of an array using the numpy shape() function"
   ]
  },
  {
   "cell_type": "code",
   "execution_count": null,
   "metadata": {},
   "outputs": [],
   "source": [
    "# shape returns a tuple listing the length of the array\n",
    "print(a.shape)\n",
    "print(np.shape(a))   #These two statements are equivalent"
   ]
  },
  {
   "cell_type": "code",
   "execution_count": null,
   "metadata": {},
   "outputs": [],
   "source": [
    "print(a.size) # or np.size(a), return the total number of elements\n",
    "# return the number of dimensions of the array\n",
    "print(a.ndim)"
   ]
  },
  {
   "cell_type": "code",
   "execution_count": null,
   "metadata": {},
   "outputs": [],
   "source": [
    "#You can also create floating point arrays using arange\n",
    "a = np.arange(1.5,2.4,0.3)\n",
    "print(a)"
   ]
  },
  {
   "cell_type": "markdown",
   "metadata": {},
   "source": [
    "<a id='array_initialization'></a>\n",
    "## Important ways to initialize arrays\n",
    "* using np.arange()\n",
    "* using np.ones()\n",
    "* using np.zeros()\n",
    "* using np.eye()\n",
    "* using np.empty(), followed by fill() or array[:] = constant\n"
   ]
  },
  {
   "cell_type": "code",
   "execution_count": null,
   "metadata": {},
   "outputs": [],
   "source": [
    "a = np.ones((2,3)) # need to supply tuple as shape of the array!\n",
    "print(a)   # You can pass in dtype=int as second argument to create corresponding integer array"
   ]
  },
  {
   "cell_type": "code",
   "execution_count": null,
   "metadata": {},
   "outputs": [],
   "source": [
    "a = np.zeros((3,3),dtype=int) # need to supply tuple as shape of the array!\n",
    "print(a)"
   ]
  },
  {
   "cell_type": "code",
   "execution_count": null,
   "metadata": {},
   "outputs": [],
   "source": [
    "a = np.identity(3)\n",
    "print(a)"
   ]
  },
  {
   "cell_type": "code",
   "execution_count": null,
   "metadata": {},
   "outputs": [],
   "source": [
    "a = np.eye(4,dtype=int)  \n",
    "print(a)"
   ]
  },
  {
   "cell_type": "code",
   "execution_count": null,
   "metadata": {},
   "outputs": [],
   "source": [
    "a = np.empty(2)\n",
    "print(a)\n",
    "a.fill(5.0)\n",
    "print(a)\n",
    "a[:] = 4.0\n",
    "print(a)"
   ]
  },
  {
   "cell_type": "code",
   "execution_count": null,
   "metadata": {},
   "outputs": [],
   "source": [
    "#To return evenly spaced numbers over a specified interval, use: \n",
    "#numpy.linspace(start, stop, num=50, endpoint=True, retstep=False, dtype=None)\n",
    "a = np.linspace(0,1,5)\n",
    "print(a)\n",
    "\n",
    "#To return numbers spaced evenly on a log scale.\n",
    "#numpy.logspace(start, stop, num=50, endpoint=True, base=10.0, dtype=None)\n",
    "#In linear space, the sequence starts at base start (base to the power of start) and ends with base stop (see endpoint below).\n",
    "\n",
    "logInterval = np.logspace(0,1,5)\n",
    "print(logInterval)\n"
   ]
  },
  {
   "cell_type": "markdown",
   "metadata": {},
   "source": [
    "<a id='plot'></a>\n",
    "## Quick and Gentle Introduction to Plotting with Matplotlib"
   ]
  },
  {
   "cell_type": "code",
   "execution_count": null,
   "metadata": {},
   "outputs": [],
   "source": [
    "import matplotlib.pyplot as plt\n",
    "plt.plot(a,'b-s')   # The 3 characters in 'b-s' stand for \"blue\", \"solid line\", and \"square marker\", respectively\n",
    "plt.show()"
   ]
  },
  {
   "cell_type": "code",
   "execution_count": null,
   "metadata": {},
   "outputs": [],
   "source": [
    "import matplotlib.pyplot as plt\n",
    "plt.plot(logInterval,'r-s')\n",
    "plt.show()"
   ]
  },
  {
   "cell_type": "code",
   "execution_count": null,
   "metadata": {},
   "outputs": [],
   "source": [
    "import matplotlib.pyplot as plt\n",
    "plt.plot(a,logInterval,'g-s')\n",
    "plt.show()"
   ]
  },
  {
   "cell_type": "markdown",
   "metadata": {},
   "source": [
    "<a id='ufunc'></a>\n",
    "## Universal Functions (ufunc) in Numpy\n",
    "* A ufunc is a “vectorized” wrapper for a function that takes a fixed number of specific inputs and produces a fixed number of specific outputs. They include\n",
    "    * Arithmetic Operators: `+, -, *, /, //, %, **`\n",
    "    * Comparison Operators: `<, >, <=, >=, ==, !=`\n",
    "    * Bitwise Operators: `&, |, ~, ^, >>, <<`\n",
    "    * Trigonometric Functions: `np.sin, np.cos, np.tan, etc`\n",
    "    * Exponential Functions: `np.exp, np.log, np.log10, etc`"
   ]
  },
  {
   "cell_type": "code",
   "execution_count": null,
   "metadata": {},
   "outputs": [],
   "source": [
    "xVec = np.linspace(0,np.pi)\n",
    "print(xVec)\n",
    "xVec *= 2    #this is element wise multiplication of original xVec by 2\n",
    "#print(xVec)"
   ]
  },
  {
   "cell_type": "code",
   "execution_count": null,
   "metadata": {},
   "outputs": [],
   "source": [
    "yVec = np.sin(xVec)\n",
    "print(yVec)\n",
    "import matplotlib.pyplot as plt\n",
    "plt.plot(xVec,yVec,'r-s')\n",
    "plt.show()"
   ]
  },
  {
   "cell_type": "markdown",
   "metadata": {},
   "source": [
    "<a id='aggregation'></a>\n",
    "## Aggregation Functions in Numpy\n",
    "- Aggregations are functions which summarize the values in an array (e.g. min, max, sum, mean, etc.)\n",
    "- Numpy aggregations are much faster than Python built-in functions\n",
    "- They all have the same call style:\n",
    "\n",
    "    `np.min() np.max() np.sum() np.prod()`<br>\n",
    "`np.all() np.median() np.percentile()`   \n",
    "`np.mean() np.std() np.var() np.any()`<br>\n",
    "`np.argsort()`<br>\n",
    "`np.argmin() np.argmax() . . .`<br>\n",
    "`np.nanmin() np.nanmax() np.nansum(). . .`<br>\n",
    "\n",
    "<!--\n",
    "<img src=\"figure/np_aggregation.png\", style=\"float: left;\", width=\"300\">\n",
    "-->\n",
    "\n",
    "![myphoto](https://github.com/lsuhpchelp/lbrnloniworkshop2019/raw/master/day2_python/figure/np_aggregation.png)"
   ]
  },
  {
   "cell_type": "code",
   "execution_count": null,
   "metadata": {},
   "outputs": [],
   "source": [
    "a=np.arange(6).reshape(2,-1)   # \"Pythonic\" expressions. They call functions sequentially from left to right\n",
    "# np.arange(6) first creates a vector [0,1,2,3,4,5], then reshape (2,-1) will reshape this vector to have \n",
    "# 2 rows and whatever number of columns will be needed based on the number of elements in the array\n",
    "print(a)"
   ]
  },
  {
   "cell_type": "code",
   "execution_count": null,
   "metadata": {},
   "outputs": [],
   "source": [
    "print(a.size) #returns the total number of elements\n",
    "print(a.ndim) #returns the number of dimensions of the array. Is it 1D, 2D or 3D?"
   ]
  },
  {
   "cell_type": "code",
   "execution_count": null,
   "metadata": {},
   "outputs": [],
   "source": [
    "print(a.sum())   # adds up all values and returns one aggregate value. Equivalent to print(np.sum(a))\n",
    "# note this is not numpy’s sum! and it doesn't aggregate into one value\n",
    "print(sum(a))"
   ]
  },
  {
   "cell_type": "code",
   "execution_count": null,
   "metadata": {},
   "outputs": [],
   "source": [
    "print(np.sum(a))  #adds up all values and returns one aggregate value. Equivalent to print(a.sum()) \n",
    "print(np.sum(a,axis=0))   #as shown in figure above, it adds downwards. It will give you a row!\n",
    "print(np.sum(a,axis=1))   #as shown in figure above, it adds sideways. It will give you a column!"
   ]
  },
  {
   "cell_type": "code",
   "execution_count": null,
   "metadata": {},
   "outputs": [],
   "source": [
    "# Numpy Statistical Methods\n",
    "np.set_printoptions(precision=4)\n",
    "# generate 2x3 random float array\n",
    "a=np.random.random(6).reshape(2,3)  #np.random.random() will generate 6 random numbers between 0 and 1.\n",
    "print(a)"
   ]
  },
  {
   "cell_type": "code",
   "execution_count": null,
   "metadata": {},
   "outputs": [],
   "source": [
    "print(a.mean(axis=0))  # It will give a row. So, it will find the mean of each column.\n",
    "print(a.mean(axis=1))  # It will give a column. So, it will find the mean of each row.\n",
    "print(a.mean())        # finds the mean of all the numbers in the 2x3 array. Will return only one number."
   ]
  },
  {
   "cell_type": "code",
   "execution_count": null,
   "metadata": {},
   "outputs": [],
   "source": [
    "# You can also perform weighted averaging by specifying \"weights\" as a second argument\n",
    "print(np.average(a,weights=[1,2,3],axis=1))  # It will give a column"
   ]
  },
  {
   "cell_type": "code",
   "execution_count": null,
   "metadata": {},
   "outputs": [],
   "source": [
    "print(a.std(axis=0))          # standard deviation\n",
    "print(np.std(a, axis=0))      # standard deviation\n",
    "print(np.var(a, axis=1))      # variance\n",
    "print(a.var(axis=1))          # variance"
   ]
  },
  {
   "cell_type": "code",
   "execution_count": null,
   "metadata": {},
   "outputs": [],
   "source": [
    "print(a.min())\n",
    "print(np.max(a))\n",
    "print(a.argmin(axis=0))    # find index of the minimum\n",
    "print(a.argmax(axis=1))\n",
    "print(np.argmin(a))"
   ]
  },
  {
   "cell_type": "markdown",
   "metadata": {},
   "source": [
    "<a id='broadcasting'></a>\n",
    "### Broadcasting Rules\n",
    "- If array shapes differ, left-pad the smaller shape with 1s\n",
    "- If any dimension does not match, broadcast the dimension with size=1\n",
    "\n",
    "<!--\n",
    "<img src=\"figure/np_broadcast.png\", align=\"left\", width=\"500\"></br>\n",
    "-->\n",
    "\n",
    "![myphoto](https://github.com/lsuhpchelp/lbrnloniworkshop2019/raw/master/day2_python/figure/np_broadcast_scale.png)"
   ]
  },
  {
   "cell_type": "markdown",
   "metadata": {},
   "source": [
    "- If neither non-matching dimension is 1, raise an error.\n",
    "\n",
    "<!--\n",
    "<img src=\"figure/np_broadcast_error.png\", align=\"left\", width=\"200\">\n",
    "-->\n",
    "\n",
    "![myphoto](https://github.com/lsuhpchelp/lbrnloniworkshop2019/raw/master/day2_python/figure/np_broadcast_error.png)"
   ]
  },
  {
   "cell_type": "code",
   "execution_count": null,
   "metadata": {},
   "outputs": [],
   "source": [
    "a = np.arange(3)\n",
    "print(\"a = \", a)\n",
    "b = 5\n",
    "print(\"b = \", b)\n",
    "print(\"a + b = \",a + b)"
   ]
  },
  {
   "cell_type": "code",
   "execution_count": null,
   "metadata": {},
   "outputs": [],
   "source": [
    "a = np.arange(3).reshape(-1,1)\n",
    "print(\"a =\")\n",
    "print(a)\n",
    "b = 5\n",
    "print(\"b =\", b)\n",
    "print(\"a + b =\")\n",
    "print(a+b)"
   ]
  },
  {
   "cell_type": "code",
   "execution_count": null,
   "metadata": {},
   "outputs": [],
   "source": [
    "a = np.ones((3,3))\n",
    "print(\"a=\")\n",
    "print(a)\n",
    "b = np.arange(3)\n",
    "print(\"b=\")\n",
    "print(b)\n",
    "print(\"a+b=\")\n",
    "print(a+b)"
   ]
  },
  {
   "cell_type": "code",
   "execution_count": null,
   "metadata": {},
   "outputs": [],
   "source": [
    "a = np.ones((3,3))\n",
    "print(\"a=\")\n",
    "print(a)\n",
    "b = np.arange(3).reshape(-1,1)\n",
    "print(\"b=\")\n",
    "print(b)\n",
    "print(\"a+b=\")\n",
    "print(a+b)"
   ]
  },
  {
   "cell_type": "markdown",
   "metadata": {},
   "source": [
    "<a id='slicing'></a>\n",
    "## Slicing Numpy Arrays\n",
    "\n",
    "- `arr[lower:upper:step]` or `arr[start:stop:increment]`\n",
    "- Extracts a portion of a sequence by specifying a lower and upper bound. The lower-bound element is included, but the upper-bound element is not included. Mathematically: `[lower, upper)`. The step value specifies the stride between elements"
   ]
  },
  {
   "cell_type": "code",
   "execution_count": null,
   "metadata": {},
   "outputs": [],
   "source": [
    "a = np.array([10,11,12,13,14])\n",
    "print(a[1:3])    # start at the second element and end at index (3-1)\n",
    "print(a[1:-2])   # start at the second element and end at 3rd to the last element\n",
    "print(a[:])      # entire array\n",
    "print(a[::2])    # from 1st element, print every other element (even indices)\n",
    "#the indexing ideas we learned under lists apply here too"
   ]
  },
  {
   "cell_type": "markdown",
   "metadata": {},
   "source": [
    "### Slices are references\n",
    "- Slices are references to memory in the original array\n",
    "- Changing values in a slice also changes the original array!"
   ]
  },
  {
   "cell_type": "code",
   "execution_count": null,
   "metadata": {},
   "outputs": [],
   "source": [
    "a = np.arange(5)\n",
    "print(a)\n",
    "b = a[2:4]  # b is NOT a new location in memory, it points to a region in memory where these elements of a are stored\n",
    "print(b) \n",
    "b[0]=7  # changing what is stored in b changes the corresponding element in a, because b only points to a region in a\n",
    "print(a)"
   ]
  },
  {
   "cell_type": "markdown",
   "metadata": {},
   "source": [
    "<a id='multidim'></a>\n",
    "## Multi-dimensional Arrays"
   ]
  },
  {
   "cell_type": "code",
   "execution_count": null,
   "metadata": {},
   "outputs": [],
   "source": [
    "# A few 2D operations similar to the 1D operations shown above\n",
    "a = np.array([[ 0, 1, 2, 3],[10,11,12,13]], float)\n",
    "print(a)\n",
    "print(f\"a.shape = {a.shape}, a.size = {a.size}, a.ndim = {a.ndim}\")"
   ]
  },
  {
   "cell_type": "code",
   "execution_count": null,
   "metadata": {},
   "outputs": [],
   "source": [
    "print(a[1,3]) # print the element on 2nd row, 4th column. This is how we reference a 2D array element\n",
    "a[1,3] = -1   # sets the value of the indexed element to -1"
   ]
  },
  {
   "cell_type": "code",
   "execution_count": null,
   "metadata": {},
   "outputs": [],
   "source": [
    "a = np.arange(1,26)\n",
    "a = a.reshape(5,5)   # reshape vector of 1 to 25, into a 2D array of dimension 5x5\n",
    "print(a)"
   ]
  },
  {
   "cell_type": "code",
   "execution_count": null,
   "metadata": {},
   "outputs": [],
   "source": [
    "print(a[0,3:4])\n",
    "print(a[3:,3:])"
   ]
  },
  {
   "cell_type": "markdown",
   "metadata": {},
   "source": [
    "<a id='control'></a>\n",
    "## Control Structures \n",
    "<font color=blue>\n",
    "* if-else\n",
    "* for loops, while loops\n",
    "* break: jump out of the current loop\n",
    "* continue: jump to the top of next cycle within the loop\n",
    "* pass: do nothing \n",
    "</font> \n",
    "[top](#top)"
   ]
  },
  {
   "cell_type": "code",
   "execution_count": null,
   "metadata": {},
   "outputs": [],
   "source": [
    "for num in range(4):     # This will loop for every num in the data structure range(4). \"num\" can be any variable.\n",
    "    print(num)           # NOTE: Indentation signifies code blocks"
   ]
  },
  {
   "cell_type": "code",
   "execution_count": null,
   "metadata": {},
   "outputs": [],
   "source": [
    "index=0\n",
    "while (index < 4):        #this will loop until the condition (index < 3) becomes false.\n",
    "    print(index)\n",
    "    index = index + 1"
   ]
  },
  {
   "cell_type": "code",
   "execution_count": null,
   "metadata": {},
   "outputs": [],
   "source": [
    "#Modify this code to plot the cosine function between 0 and 360 degrees\n",
    "deg2radians = np.pi/180\n",
    "angleVec = np.arange(0,91,5)\n",
    "cosAngle = np.zeros(angleVec.shape)  #uses the shape of angleVec to initialize cosAngle    \n",
    "indx = 0\n",
    "#for angle in range(0,91,5): \n",
    "for angle in angleVec:   \n",
    "    cosAngle[indx] = np.cos(angle*deg2radians)\n",
    "    indx += 1\n",
    "    \n",
    "plt.plot(angleVec,cosAngle)\n",
    "plt.show()"
   ]
  },
  {
   "cell_type": "code",
   "execution_count": null,
   "metadata": {
    "colab": {},
    "colab_type": "code",
    "id": "on_o62WTdHEt"
   },
   "outputs": [],
   "source": [
    "# iterate list elements with a for loop\n",
    "animals = ['dog','cat','horse']\n",
    "for name in animals:\n",
    "    print(name)"
   ]
  },
  {
   "cell_type": "code",
   "execution_count": null,
   "metadata": {
    "colab": {},
    "colab_type": "code",
    "id": "iCKHMWDNdHEv"
   },
   "outputs": [],
   "source": [
    "for index, name in enumerate(animals):   # this will give both the indices and items stored in animals\n",
    "    print(index+1, name)  # note the addition of 1 to index. Observe that index is not modified in the print statement."
   ]
  },
  {
   "cell_type": "code",
   "execution_count": null,
   "metadata": {
    "colab": {},
    "colab_type": "code",
    "id": "9gcG6o9NdHFG"
   },
   "outputs": [],
   "source": [
    "my_dict = {'cats': 4, 'dogs':2, 'sheep':3}\n",
    "print(my_dict)"
   ]
  },
  {
   "cell_type": "code",
   "execution_count": null,
   "metadata": {
    "colab": {},
    "colab_type": "code",
    "id": "zsD9iVhudHFT"
   },
   "outputs": [],
   "source": [
    "for key, value in my_dict.items():\n",
    "    print(key, value)"
   ]
  }
 ],
 "metadata": {
  "colab": {
   "collapsed_sections": [
    "sYQs3O-6dHFb",
    "8sIJ4A57dHFk",
    "_73RPOcBdHFn",
    "h9s2tfPcdHFo",
    "zt4YHVYPdHGR"
   ],
   "include_colab_link": true,
   "name": "Copy of intro-python-colab.ipynb",
   "provenance": [],
   "version": "0.3.2"
  },
  "kernelspec": {
   "display_name": "Python 3",
   "language": "python",
   "name": "python3"
  },
  "language_info": {
   "codemirror_mode": {
    "name": "ipython",
    "version": 3
   },
   "file_extension": ".py",
   "mimetype": "text/x-python",
   "name": "python",
   "nbconvert_exporter": "python",
   "pygments_lexer": "ipython3",
   "version": "3.6.8"
  }
 },
 "nbformat": 4,
 "nbformat_minor": 1
}
