{
 "cells": [
  {
   "cell_type": "markdown",
   "metadata": {
    "colab_type": "text",
    "id": "u1YDPNtbdHDj"
   },
   "source": [
    "# Control Structures and Data Frames\n",
    "\n",
    "## PETE 2061 Lab 4 Workbook \n",
    "\n",
    "## THIS IS DUE BY 11:59 PM ON SUNDAY (Sept 22, 2019)\n",
    "\n",
    "<a id='top'></a>"
   ]
  },
  {
   "cell_type": "markdown",
   "metadata": {},
   "source": [
    "1. Paste the url (or link) to the pete2061 folder in your github account in the \"marked down\" cell below. <br>"
   ]
  },
  {
   "cell_type": "markdown",
   "metadata": {},
   "source": [
    "https://github.com/rhall35/pete2061"
   ]
  },
  {
   "cell_type": "markdown",
   "metadata": {},
   "source": [
    "2. It is commonly said that one human year is equivalent to 7 dog years. However, this simple conversion fails to recognize that dogs reach adulthood in approximately two years. As a result, some people believe that it is better to count each of the first two human years as 10.5 dog years, and then count each additional human year as 4 dog\n",
    "years. <br>\n",
    "Write a program that implements the conversion from human years to dog years described in the previous paragraph. Ensure that your program works correctly for conversions of less than two human years and for conversions of two or more human years. Your program should generate a random number between 0 and 10, and display an appropriate error message if the user enters a number that is outside this range. <br>\n",
    "Hints: <br>\n",
    "a. Remember that you can generate a random number between 0 and 1 using the function numpy.random.random(1)<br>\n",
    "b. You can scale this random number to go from 0 to 10 by multiplying it by 10<br>\n",
    "c. At this point what you have is a random floating-point number that goes from 0 to 10. You need to convert this floating-point number to an integer using the int() function."
   ]
  },
  {
   "cell_type": "code",
   "execution_count": 3,
   "metadata": {},
   "outputs": [
    {
     "name": "stdout",
     "output_type": "stream",
     "text": [
      "6 human years equals 37 dog years\n"
     ]
    }
   ],
   "source": [
    "import numpy as np\n",
    "t = int(10*np.random.random(1))\n",
    "if t <= 2:\n",
    "    dogYr = t*10.5\n",
    "if t > 2:\n",
    "    dogYr = 21+((t-2)*4)\n",
    "print(f\"{t} human years equals {dogYr} dog years\")"
   ]
  },
  {
   "cell_type": "markdown",
   "metadata": {},
   "source": [
    "3. For Students A through J, generate 10 different random numbers between 0 and 100. Create a dataframe to store the student names in the first column (called \"Name\"), and store the scores in the second column called \"Score\".\n",
    "   Print out the mean, standard deviation and maximum of the scores, as well as the index of the student with this maximum score. "
   ]
  },
  {
   "cell_type": "code",
   "execution_count": 9,
   "metadata": {},
   "outputs": [
    {
     "name": "stdout",
     "output_type": "stream",
     "text": [
      "  Name      Score\n",
      "0    A  25.717626\n",
      "1    B  48.616528\n",
      "2    C  93.789437\n",
      "3    D  37.480412\n",
      "4    E  37.502148\n",
      "5    F  14.525508\n",
      "6    G  90.464244\n",
      "7    H  98.693724\n",
      "8    I  57.429214\n",
      "9    J  59.753689\n",
      "The mean, maximum, and standard deviation of the scores is 56.39725297321273, 98.69372436442877, and 27.982050541598216, respectively\n"
     ]
    }
   ],
   "source": [
    "import pandas as pd\n",
    "from numpy.random import randn\n",
    "scores = 100*np.random.random(10)\n",
    "Name = 'A B C D E F G H I J'.split()\n",
    "df = pd.DataFrame({\"Name\":Name,\"Score\":scores})\n",
    "print(df)\n",
    "print(f\"The mean, maximum, and standard deviation of the scores is {scores.mean()}, {scores.max()}, and {scores.std()}, respectively\")"
   ]
  },
  {
   "cell_type": "markdown",
   "metadata": {},
   "source": [
    "4. Write a program that begins by reading a score in percentage (%) from the user. Then your program should compute and display the equivalent letter grade. Ensure that your program generates an appropriate error message if the user enters an invalid score.\n",
    "Use the grading scale on your syllabus. These scores are typed in below."
   ]
  },
  {
   "cell_type": "code",
   "execution_count": 12,
   "metadata": {},
   "outputs": [
    {
     "name": "stdout",
     "output_type": "stream",
     "text": [
      "Enter a score between 0 and 100: 87\n",
      "You have a B+\n"
     ]
    }
   ],
   "source": [
    "letterGrade = ['A+','A','A-','B+','B','B-','C+','C','C-','D+','D','D-']\n",
    "scores = [97,93,90,87,83,80,77,73,70,67,63,60]\n",
    "# A score of less than 60 gets a letter grade of F\n",
    "score = float(input(\"Enter a score between 0 and 100: \"))\n",
    "if score >= 97:\n",
    "    print(\"You have an A+\")\n",
    "elif score >= 93:\n",
    "    print(\"You have an A\")\n",
    "elif score >= 90:\n",
    "    print(\"You have an A-\")\n",
    "elif score >= 87:\n",
    "    print(\"You have a B+\")\n",
    "elif score >= 83:\n",
    "    print(\"You have a B\")\n",
    "elif score >= 80:\n",
    "    print(\"You have a B-\")\n",
    "elif score >= 77:\n",
    "    print(\"You have a C+\")\n",
    "elif score >= 73:\n",
    "    print(\"You have a C\")\n",
    "elif score >= 70:\n",
    "    print(\"You have a C-\")\n",
    "elif score >= 67:\n",
    "    print(\"You have a D+\")\n",
    "elif score >= 63:\n",
    "    print(\"You have a D\")\n",
    "elif score >= 60:\n",
    "    print(\"You have a D-\")\n",
    "else:\n",
    "    print(\"You have an F\")"
   ]
  },
  {
   "cell_type": "markdown",
   "metadata": {},
   "source": [
    "5. Write a program that generates 10 random integers, and then prints the largest odd number that was entered. If no odd number was entered it should print a message to that effect. <br>\n",
    "Hints: <br>\n",
    "    a. Use pseudo-code. <br>\n",
    "    b. Generate a random number using the code below:<br>\n",
    "    myRandInt = np.random.randint(low=1, high=20, size=10)<br>\n",
    "    c. Initialize an empty list to contain the odd numbers. Name this list oddInt <br>\n",
    "    d. Within your for loop, you can append odd numbers to this empty list using the append function. eg: <br>\n",
    "    oddInt.append(\"The current odd number from the list should be put in here!\")"
   ]
  },
  {
   "cell_type": "code",
   "execution_count": 25,
   "metadata": {},
   "outputs": [
    {
     "name": "stdout",
     "output_type": "stream",
     "text": [
      "[ 1  9  7 13  6  4 11 16 14  3]\n",
      "[1, 9, 7, 13, 11, 3]\n",
      "13\n"
     ]
    }
   ],
   "source": [
    "import numpy as np\n",
    "myRandInt = np.random.randint(low=1, high=20, size=10)\n",
    "myOddInt = [y for y in myRandInt if y % 2 !=0]\n",
    "print(myRandInt)\n",
    "print(myOddInt)\n",
    "if myOddInt:\n",
    "    print(max(myOddInt))\n",
    "else:\n",
    "    print(\"No odd integers were given\")\n"
   ]
  },
  {
   "cell_type": "code",
   "execution_count": null,
   "metadata": {},
   "outputs": [],
   "source": []
  }
 ],
 "metadata": {
  "colab": {
   "collapsed_sections": [
    "sYQs3O-6dHFb",
    "8sIJ4A57dHFk",
    "_73RPOcBdHFn",
    "h9s2tfPcdHFo",
    "zt4YHVYPdHGR"
   ],
   "include_colab_link": true,
   "name": "Copy of intro-python-colab.ipynb",
   "provenance": [],
   "version": "0.3.2"
  },
  "kernelspec": {
   "display_name": "Python 3",
   "language": "python",
   "name": "python3"
  },
  "language_info": {
   "codemirror_mode": {
    "name": "ipython",
    "version": 3
   },
   "file_extension": ".py",
   "mimetype": "text/x-python",
   "name": "python",
   "nbconvert_exporter": "python",
   "pygments_lexer": "ipython3",
   "version": "3.7.3"
  }
 },
 "nbformat": 4,
 "nbformat_minor": 1
}
