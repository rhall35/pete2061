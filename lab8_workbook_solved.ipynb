{
 "cells": [
  {
   "cell_type": "markdown",
   "metadata": {
    "colab_type": "text",
    "id": "u1YDPNtbdHDj"
   },
   "source": [
    "\n",
    "#  Inferential Statistics\n",
    "\n",
    "## PETE 2061 Lab 8 Workbook \n",
    "\n",
    "## THIS IS DUE BY 11:59 PM TODAY (Oct 14, 2019)"
   ]
  },
  {
   "cell_type": "markdown",
   "metadata": {},
   "source": [
    "1. **Using the example in \"lab8_inferential_stats.ipynb\", write a Python code to compute the confidence interval for the winning percentage of Ed Orgeron based on \"poll-larger.csv\", and show that he is the likely winner within a 95% confidence interval**\n",
    "2. Type out:\n",
    "    * (a) the 95% confidence interval **-3 if wrong or not attempted, -1.5 if figure is right but there's a typo**\n",
    "    * (b) the point estimate **-3 if wrong or not attempted, -1.5 if figure is right but there's a typo**\n",
    "    * (c) the margin of error. **-3 if wrong or not attempted, -1.5 if figure is right but there's a typo**\n",
    "   \n",
    "**If none of the 3 questions in 2 is solved, but the code generates the right plot, -10**\n",
    "**If 1000 samples were used instead of 10000, but everything else is done correctly, -7 because (b) will be right**"
   ]
  },
  {
   "cell_type": "code",
   "execution_count": 15,
   "metadata": {},
   "outputs": [
    {
     "name": "stdout",
     "output_type": "stream",
     "text": [
      "Orgeron    0.5181\n",
      "Saban      0.4819\n",
      "Name: vote, dtype: float64\n",
      "a: The 95% confidence interval is (0.5076975, 0.5279025)\n",
      "b: The point estimate is 0.518\n",
      "c: The margin of error is +/- 0.01\n",
      "Ed Orgeron is likely the winner within a 95% confidence interval\n"
     ]
    },
    {
     "data": {
      "image/png": "[encoded data removed]",
      "text/plain": [
       "<Figure size 432x288 with 1 Axes>"
      ]
     },
     "metadata": {},
     "output_type": "display_data"
    }
   ],
   "source": [
    "import math\n",
    "import io\n",
    "import numpy as np\n",
    "import pandas as pd\n",
    "import matplotlib\n",
    "import matplotlib.pyplot as plt\n",
    "%matplotlib inline\n",
    "import scipy.stats\n",
    "import scipy.optimize\n",
    "import scipy.spatial\n",
    "largepoll = pd.read_csv('poll-larger.csv')\n",
    "print(largepoll['vote'].value_counts(normalize=True))\n",
    "def sample(O,n=1000):\n",
    "    return pd.DataFrame({'vote': np.where(np.random.rand(n) < O,'Orgeron','Saban')})\n",
    "def samplingdist(O,n=1000):\n",
    "    return pd.DataFrame([sample(O,n)['vote'].value_counts(normalize=True) for i in range(1000)])\n",
    "def quantiles(O,n=1000):\n",
    "    distDF = samplingdist(O,n)\n",
    "    return distDF['Orgeron'].quantile(0.025), distDF['Orgeron'].quantile(0.975)\n",
    "distDF = samplingdist(0.5181,10000)\n",
    "distDF['Orgeron'].plot(kind='hist', histtype='step')\n",
    "plt.axvline(distDF['Orgeron'].quantile(0.025), c='C1',linestyle='--')\n",
    "plt.axvline(distDF['Orgeron'].quantile(0.500), c='C1')\n",
    "plt.axvline(distDF['Orgeron'].quantile(0.975), c='C1',linestyle=':')\n",
    "\n",
    "quantile2p5, quantile97p5 = quantiles(.5181,10000)\n",
    "\n",
    "print(f\"a: The 95% confidence interval is {quantile2p5, quantile97p5}\")\n",
    "print(f\"b: The point estimate is {round((quantile2p5+quantile97p5)/2,3)}\")\n",
    "print(f\"c: The margin of error is +/- {round((quantile97p5-quantile2p5)/2,2)}\")\n",
    "print(\"Ed Orgeron is likely the winner within a 95% confidence interval\")"
   ]
  },
  {
   "cell_type": "code",
   "execution_count": null,
   "metadata": {},
   "outputs": [],
   "source": []
  }
 ],
 "metadata": {
  "colab": {
   "collapsed_sections": [
    "sYQs3O-6dHFb",
    "8sIJ4A57dHFk",
    "_73RPOcBdHFn",
    "h9s2tfPcdHFo",
    "zt4YHVYPdHGR"
   ],
   "include_colab_link": true,
   "name": "Copy of intro-python-colab.ipynb",
   "provenance": [],
   "version": "0.3.2"
  },
  "kernelspec": {
   "display_name": "Python 3",
   "language": "python",
   "name": "python3"
  },
  "language_info": {
   "codemirror_mode": {
    "name": "ipython",
    "version": 3
   },
   "file_extension": ".py",
   "mimetype": "text/x-python",
   "name": "python",
   "nbconvert_exporter": "python",
   "pygments_lexer": "ipython3",
   "version": "3.6.8"
  }
 },
 "nbformat": 4,
 "nbformat_minor": 1
}
