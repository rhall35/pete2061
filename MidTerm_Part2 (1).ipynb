{
 "cells": [
  {
   "cell_type": "markdown",
   "metadata": {
    "colab_type": "text",
    "id": "u1YDPNtbdHDj"
   },
   "source": [
    "# PETE 2061 Mid-term Exam (Part 2) \n",
    "\n",
    "## THIS IS DUE BY 10:10 AM TODAY"
   ]
  },
  {
   "cell_type": "markdown",
   "metadata": {},
   "source": [
    "1. The production rate from an oil well has been observed to decline following either the exponential or the hyperbolic decline model. The initial oil rate ($q_i$) from this well is 10,000 bopd, and its initial decline rate ($D_i$) is 0.1% per day (which is equivalent to 0.001 per day). Write a Python code that: <br>\n",
    "    a. Reads in either \"Exp\" or \"Hyp\" using the input function, and stores the string typed in by the user into a variable named model. <br>\n",
    "    b. If the model typed in by the user is \"Exp\", use the exponential decline model, which is given as: $q = q_i \\, exp(-D_i t)$, to predict the daily oil rate for the first 3650 days (10 years) of production. <br>\n",
    "    c. If the model typed in by the user is \"Hyp\", use the hyperbolic decline model, which is given as: $q = \\frac{q_i}{(1+b D_i t)^{1/b}}$, with a b value of 0.5, to predict the daily oil rate for the first 3650 days (~10 years) of production. <br>\n",
    "    d. Plot the oil rate computed against time using the plt.plot(time,rate) function, after importing matplotlib.pyplot as plt. Remember to use the plt.show() function to display the plot in your Jupyter Notebook <br>\n",
    "    e. Compute and display the mean, minimum and standard deviation of the computed oil rates. <br>    "
   ]
  },
  {
   "cell_type": "code",
   "execution_count": 30,
   "metadata": {},
   "outputs": [
    {
     "name": "stdout",
     "output_type": "stream",
     "text": [
      "Enter either Exp or Hyp: Hyp\n",
      "[7151.509191924157, 5367.0383340713015, 4175.790333567353, 3341.2409368839585, 2733.9911999658248, 2278.410353096645, 1927.8943417506005, 1652.4555489457334, 1432.088997170729, 1253.0346933980734]\n",
      " mean = 3131.345393077437\n",
      " minimum = 1253.0346933980734\n",
      " standard deviation = 1822.9449468861674\n"
     ]
    },
    {
     "data": {
      "image/png": "[encoded data removed]",
      "text/plain": [
       "<Figure size 432x288 with 1 Axes>"
      ]
     },
     "metadata": {
      "needs_background": "light"
     },
     "output_type": "display_data"
    }
   ],
   "source": [
    "import numpy as np\n",
    "import pandas as pd\n",
    "import matplotlib.pyplot as plt\n",
    "\n",
    "q_i = 10000\n",
    "D_i = 0.001\n",
    "b = 0.5\n",
    "\n",
    "t = np.arange(365,3651,365)\n",
    "\n",
    "Exp = [0,0,0,0,0,0,0,0,0,0]\n",
    "Hyp = [0,0,0,0,0,0,0,0,0,0]\n",
    "\n",
    "model = input('Enter either Exp or Hyp: ')\n",
    "if (model == \"Exp\"):\n",
    "    Exp[0] = q_i*np.exp(-D_i*t[0])\n",
    "    Exp[1] = q_i*np.exp(-D_i*t[1])\n",
    "    Exp[2] = q_i*np.exp(-D_i*t[2])\n",
    "    Exp[3] = q_i*np.exp(-D_i*t[3])\n",
    "    Exp[4] = q_i*np.exp(-D_i*t[4])\n",
    "    Exp[5] = q_i*np.exp(-D_i*t[5])\n",
    "    Exp[6] = q_i*np.exp(-D_i*t[6])\n",
    "    Exp[7] = q_i*np.exp(-D_i*t[7])\n",
    "    Exp[8] = q_i*np.exp(-D_i*t[8])\n",
    "    Exp[9] = q_i*np.exp(-D_i*t[9])\n",
    "    print(Exp)\n",
    "    Plot = plt.plot(t,Exp, 'r-s')\n",
    "    plt.show()\n",
    "    print(f\" mean = {np.mean(Exp)}\")\n",
    "    print(f\" minimum = {np.min(Exp)}\")\n",
    "    print(f\" standard deviation = {np.std(Exp)}\")\n",
    "    \n",
    "\n",
    "elif (model == \"Hyp\"):\n",
    "    Hyp[0] = q_i/((1+(b*D_i*t[0]))**(1/b))\n",
    "    Hyp[1] = q_i/((1+(b*D_i*t[1]))**(1/b))\n",
    "    Hyp[2] = q_i/((1+(b*D_i*t[2]))**(1/b))\n",
    "    Hyp[3] = q_i/((1+(b*D_i*t[3]))**(1/b))\n",
    "    Hyp[4] = q_i/((1+(b*D_i*t[4]))**(1/b))\n",
    "    Hyp[5] = q_i/((1+(b*D_i*t[5]))**(1/b))\n",
    "    Hyp[6] = q_i/((1+(b*D_i*t[6]))**(1/b))\n",
    "    Hyp[7] = q_i/((1+(b*D_i*t[7]))**(1/b))\n",
    "    Hyp[8] = q_i/((1+(b*D_i*t[8]))**(1/b))\n",
    "    Hyp[9] = q_i/((1+(b*D_i*t[9]))**(1/b))\n",
    "    print(Hyp)\n",
    "    Plot = plt.plot(t,Hyp, 'g-s')\n",
    "    plt.show\n",
    "    print(f\" mean = {np.mean(Hyp)}\")\n",
    "    print(f\" minimum = {np.min(Hyp)}\")\n",
    "    print(f\" standard deviation = {np.std(Hyp)}\")\n",
    "    \n",
    "   \n",
    "    \n",
    "    \n"
   ]
  },
  {
   "cell_type": "markdown",
   "metadata": {},
   "source": [
    "2. Write a Python code that generates, prints and stores 10 random integers into a variable, and then prints the smallest even number out of these 10 numbers. If no even number is present in the 10 random integers, print a message that says \"No even number in the list\". <br>\n",
    "Hints: <br>\n",
    "    a. You can generate a random number using the code below:<br>\n",
    "    myRandInt = np.random.randint(low=1, high=20, size=10)<br>\n",
    "    b. The append function works on a list named myList as follows: <br>\n",
    "    myList.append(\"The current even number from the list should be put in here!\")"
   ]
  },
  {
   "cell_type": "code",
   "execution_count": 30,
   "metadata": {},
   "outputs": [
    {
     "name": "stdout",
     "output_type": "stream",
     "text": [
      "[ 5 18 15  7 11  6  1  7  4 12]\n",
      "4\n"
     ]
    }
   ],
   "source": [
    "myRandInt = np.random.randint(low=1, high=20, size=10)\n",
    "print(myRandInt)\n",
    "evenInt = []\n",
    "oddInt = []\n",
    "for myInt in myRandInt:\n",
    "    if myInt %2 == 0:\n",
    "        evenInt.append(myInt)\n",
    "    else:\n",
    "        oddInt.append(myInt)\n",
    "if len(evenInt) > 0:\n",
    "    print(np.min(evenInt))\n",
    "else:\n",
    "    print(\"No even number in the list\")"
   ]
  },
  {
   "cell_type": "code",
   "execution_count": null,
   "metadata": {},
   "outputs": [],
   "source": []
  },
  {
   "cell_type": "code",
   "execution_count": null,
   "metadata": {},
   "outputs": [],
   "source": []
  }
 ],
 "metadata": {
  "colab": {
   "collapsed_sections": [
    "sYQs3O-6dHFb",
    "8sIJ4A57dHFk",
    "_73RPOcBdHFn",
    "h9s2tfPcdHFo",
    "zt4YHVYPdHGR"
   ],
   "include_colab_link": true,
   "name": "Copy of intro-python-colab.ipynb",
   "provenance": [],
   "version": "0.3.2"
  },
  "kernelspec": {
   "display_name": "Python 3",
   "language": "python",
   "name": "python3"
  },
  "language_info": {
   "codemirror_mode": {
    "name": "ipython",
    "version": 3
   },
   "file_extension": ".py",
   "mimetype": "text/x-python",
   "name": "python",
   "nbconvert_exporter": "python",
   "pygments_lexer": "ipython3",
   "version": "3.7.3"
  }
 },
 "nbformat": 4,
 "nbformat_minor": 1
}
